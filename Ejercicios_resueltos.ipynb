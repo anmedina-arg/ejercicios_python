{
 "cells": [
  {
   "cell_type": "markdown",
   "metadata": {},
   "source": [
    "# EJERCICIOS PYTHON"
   ]
  },
  {
   "cell_type": "markdown",
   "metadata": {},
   "source": [
    "En este archivo vamos a encontrar varios ejercicios para resolver, practicar e ir aprendiendo python!"
   ]
  },
  {
   "cell_type": "markdown",
   "metadata": {},
   "source": [
    "Vamos a ir desde los más fáciles a los más difíciles... Comencemos!"
   ]
  },
  {
   "cell_type": "markdown",
   "metadata": {},
   "source": [
    "## Variables"
   ]
  },
  {
   "cell_type": "markdown",
   "metadata": {},
   "source": [
    "1) Crear una variable que contenga un elemento del conjunto de números enteros y luego imprimir por pantalla"
   ]
  },
  {
   "cell_type": "code",
   "execution_count": 4,
   "metadata": {},
   "outputs": [
    {
     "name": "stdout",
     "output_type": "stream",
     "text": [
      "El numero es 8\n"
     ]
    }
   ],
   "source": [
    "numero = 8\n",
    "print('El numero es',numero)"
   ]
  },
  {
   "cell_type": "markdown",
   "metadata": {},
   "source": [
    "2) Imprimir el tipo de dato de la constante 8.5"
   ]
  },
  {
   "cell_type": "code",
   "execution_count": 5,
   "metadata": {},
   "outputs": [
    {
     "name": "stdout",
     "output_type": "stream",
     "text": [
      "<class 'float'>\n"
     ]
    }
   ],
   "source": [
    "print(type(8.5))"
   ]
  },
  {
   "cell_type": "markdown",
   "metadata": {},
   "source": [
    "3) Imprimir el tipo de dato de la variable creada en el punto 1"
   ]
  },
  {
   "cell_type": "code",
   "execution_count": 6,
   "metadata": {},
   "outputs": [
    {
     "name": "stdout",
     "output_type": "stream",
     "text": [
      "<class 'int'>\n"
     ]
    }
   ],
   "source": [
    "print(type(numero))"
   ]
  },
  {
   "cell_type": "markdown",
   "metadata": {},
   "source": [
    "4) Crear una variable que contenga tu nombre"
   ]
  },
  {
   "cell_type": "code",
   "execution_count": 7,
   "metadata": {},
   "outputs": [],
   "source": [
    "nombre = 'Andres'"
   ]
  },
  {
   "cell_type": "markdown",
   "metadata": {},
   "source": [
    "5) Mostrar el tipo de dato de la variable crada en el punto 4"
   ]
  },
  {
   "cell_type": "code",
   "execution_count": 8,
   "metadata": {},
   "outputs": [
    {
     "name": "stdout",
     "output_type": "stream",
     "text": [
      "<class 'str'>\n"
     ]
    }
   ],
   "source": [
    "print(type(nombre))"
   ]
  },
  {
   "cell_type": "markdown",
   "metadata": {},
   "source": [
    "6) Crear una variable que contenga el valor del número Pi redondeado a 4 decimales"
   ]
  },
  {
   "cell_type": "code",
   "execution_count": 9,
   "metadata": {},
   "outputs": [],
   "source": [
    "pi = 3.1415"
   ]
  },
  {
   "cell_type": "markdown",
   "metadata": {},
   "source": [
    "7) Crear una variable que contenga el valor 'True' y otra que contenga el valor True. ¿Se trata de lo mismo?"
   ]
  },
  {
   "cell_type": "code",
   "execution_count": 11,
   "metadata": {},
   "outputs": [
    {
     "name": "stdout",
     "output_type": "stream",
     "text": [
      "No se trata de lo mismo, mientras que \"true_string\" es una variable del tipo <class 'str'> true_bool es una variable del tipo <class 'bool'>\n"
     ]
    }
   ],
   "source": [
    "true_string = 'True'\n",
    "true_bool = True\n",
    "\n",
    "print('No se trata de lo mismo, mientras que \"true_string\" es una variable del tipo',type(true_string),'true_bool es una variable del tipo',type(true_bool))"
   ]
  },
  {
   "cell_type": "markdown",
   "metadata": {},
   "source": [
    "8) Imprimir el tipo de dato correspondientes a las variables creadas en el punto 7"
   ]
  },
  {
   "cell_type": "code",
   "execution_count": 13,
   "metadata": {},
   "outputs": [
    {
     "name": "stdout",
     "output_type": "stream",
     "text": [
      "<class 'bool'>\n",
      "<class 'str'>\n"
     ]
    }
   ],
   "source": [
    "print(type(true_bool))\n",
    "print(type(true_string))"
   ]
  },
  {
   "cell_type": "markdown",
   "metadata": {},
   "source": [
    "9) Asignar a una variable, la suma de un número entero y otro decimal"
   ]
  },
  {
   "cell_type": "code",
   "execution_count": 14,
   "metadata": {},
   "outputs": [],
   "source": [
    "variable_numeros_mixta = 5 + 1.5"
   ]
  },
  {
   "cell_type": "markdown",
   "metadata": {},
   "source": [
    "10) Realizar una operación de suma de números complejos"
   ]
  },
  {
   "cell_type": "code",
   "execution_count": 18,
   "metadata": {},
   "outputs": [
    {
     "name": "stdout",
     "output_type": "stream",
     "text": [
      "El primer numero complejo es: 5j ; el segundo numero complejo es: (5-2j) . La suma de ambos es:  (5+3j)\n"
     ]
    }
   ],
   "source": [
    "complejo_uno = 0 +5j\n",
    "complejo_dos = 5 -2j\n",
    "suma_complejos = complejo_uno + complejo_dos\n",
    "print('El primer numero complejo es:',complejo_uno,'; el segundo numero complejo es:',complejo_dos,'. La suma de ambos es: ',suma_complejos)"
   ]
  },
  {
   "cell_type": "markdown",
   "metadata": {},
   "source": [
    "11) Realizar una operación de multiplicación"
   ]
  },
  {
   "cell_type": "code",
   "execution_count": 19,
   "metadata": {},
   "outputs": [
    {
     "name": "stdout",
     "output_type": "stream",
     "text": [
      "12\n"
     ]
    }
   ],
   "source": [
    "multiplicacion = 2 * 6\n",
    "print(multiplicacion)"
   ]
  },
  {
   "cell_type": "markdown",
   "metadata": {},
   "source": [
    "12) Mostrar el resultado de elevar 2 a la octava potencia"
   ]
  },
  {
   "cell_type": "code",
   "execution_count": 21,
   "metadata": {},
   "outputs": [
    {
     "name": "stdout",
     "output_type": "stream",
     "text": [
      "256\n"
     ]
    }
   ],
   "source": [
    "potencia_de_dos = 2 ** 8\n",
    "print(potencia_de_dos)"
   ]
  },
  {
   "cell_type": "markdown",
   "metadata": {},
   "source": [
    "13) Obtener el cociente de la división de 27 entre 4 en una variable y luego mostrarla"
   ]
  },
  {
   "cell_type": "code",
   "execution_count": 22,
   "metadata": {},
   "outputs": [
    {
     "name": "stdout",
     "output_type": "stream",
     "text": [
      "6.75\n"
     ]
    }
   ],
   "source": [
    "cociente = 27 / 4\n",
    "print(cociente)"
   ]
  },
  {
   "cell_type": "markdown",
   "metadata": {},
   "source": [
    "14) De la división anterior solamente mostrar la parte entera"
   ]
  },
  {
   "cell_type": "code",
   "execution_count": 23,
   "metadata": {},
   "outputs": [
    {
     "name": "stdout",
     "output_type": "stream",
     "text": [
      "6\n"
     ]
    }
   ],
   "source": [
    "cociente_entero = 27 // 4\n",
    "print(cociente_entero)"
   ]
  },
  {
   "cell_type": "markdown",
   "metadata": {},
   "source": [
    "15) De la división de 27 entre 4 mostrar solamente el resto"
   ]
  },
  {
   "cell_type": "code",
   "execution_count": 24,
   "metadata": {},
   "outputs": [
    {
     "name": "stdout",
     "output_type": "stream",
     "text": [
      "3\n"
     ]
    }
   ],
   "source": [
    "resto_division = 27 % 4\n",
    "print(resto_division)"
   ]
  },
  {
   "cell_type": "markdown",
   "metadata": {},
   "source": [
    "16) Utilizando como operandos el número 4 y los resultados obtenidos en los puntos 14 y 15. Obtener 27 como resultado"
   ]
  },
  {
   "cell_type": "code",
   "execution_count": 27,
   "metadata": {},
   "outputs": [
    {
     "name": "stdout",
     "output_type": "stream",
     "text": [
      "27\n"
     ]
    }
   ],
   "source": [
    "numero_veintisiete = cociente_entero * 4 + resto_division\n",
    "print(numero_veintisiete)"
   ]
  },
  {
   "cell_type": "markdown",
   "metadata": {},
   "source": [
    "17) Utilizar el operador \"+\" en una operación donde intervengan solo variables alfanuméricas"
   ]
  },
  {
   "cell_type": "code",
   "execution_count": 29,
   "metadata": {},
   "outputs": [
    {
     "name": "stdout",
     "output_type": "stream",
     "text": [
      "#5522\n"
     ]
    }
   ],
   "source": [
    "var_alfa_uno = '#55'\n",
    "var_alfa_dos = '22'\n",
    "var_alfa_suma = var_alfa_uno + var_alfa_dos\n",
    "print(var_alfa_suma)"
   ]
  },
  {
   "cell_type": "markdown",
   "metadata": {},
   "source": [
    "18) Evaluar si \"2\" es igual a 2. ¿Por qué ocurre eso?"
   ]
  },
  {
   "cell_type": "code",
   "execution_count": 31,
   "metadata": {},
   "outputs": [
    {
     "name": "stdout",
     "output_type": "stream",
     "text": [
      "No son iguales porque uno es del tipo string y el otro es de tipo number\n"
     ]
    }
   ],
   "source": [
    "2 == '2'\n",
    "print('No son iguales porque uno es del tipo string y el otro es de tipo number')"
   ]
  },
  {
   "cell_type": "markdown",
   "metadata": {},
   "source": [
    "19) Utilizar las funciones de cambio de tipo de dato, para que la validación del punto 18 resulte verdadera"
   ]
  },
  {
   "cell_type": "code",
   "execution_count": 35,
   "metadata": {},
   "outputs": [
    {
     "name": "stdout",
     "output_type": "stream",
     "text": [
      "True\n",
      "True\n",
      "en un caso se usa la funcion para convertir un string y en otro para convertir a un integer\n"
     ]
    }
   ],
   "source": [
    "print(str(2) == '2')\n",
    "print(2 == int('2'))\n",
    "\n",
    "print('en un caso se usa la funcion para convertir un string y en otro para convertir a un integer')"
   ]
  },
  {
   "cell_type": "markdown",
   "metadata": {},
   "source": [
    "20) ¿Por qué arroja error el siguiente cambio de tipo de datos? a = float('3,8')"
   ]
  },
  {
   "cell_type": "code",
   "execution_count": 6,
   "metadata": {},
   "outputs": [
    {
     "name": "stdout",
     "output_type": "stream",
     "text": [
      "La funcion float no podra convertir el valor de a = 3,6 porque literalmente es un string, el signo \",\" que usamos en nuestra codificacion, \n",
      " para separar decimales no se usa a nivel internacional. Para separar decimales se usa el \".\"\n"
     ]
    },
    {
     "ename": "ValueError",
     "evalue": "could not convert string to float: '3,8'",
     "output_type": "error",
     "traceback": [
      "\u001b[1;31m---------------------------------------------------------------------------\u001b[0m",
      "\u001b[1;31mValueError\u001b[0m                                Traceback (most recent call last)",
      "\u001b[1;32mc:\\Users\\cabez\\OneDrive\\Escritorio\\Data Science\\Ejercicios_python\\Ejercicios_resueltos.ipynb Celda 44\u001b[0m line \u001b[0;36m2\n\u001b[0;32m      <a href='vscode-notebook-cell:/c%3A/Users/cabez/OneDrive/Escritorio/Data%20Science/Ejercicios_python/Ejercicios_resueltos.ipynb#X64sZmlsZQ%3D%3D?line=0'>1</a>\u001b[0m \u001b[39mprint\u001b[39m(\u001b[39m'\u001b[39m\u001b[39mLa funcion float no podra convertir el valor de a = 3,6 porque literalmente es un string, el signo \u001b[39m\u001b[39m\"\u001b[39m\u001b[39m,\u001b[39m\u001b[39m\"\u001b[39m\u001b[39m que usamos en nuestra codificacion, \u001b[39m\u001b[39m\\n\u001b[39;00m\u001b[39m para separar decimales no se usa a nivel internacional. Para separar decimales se usa el \u001b[39m\u001b[39m\"\u001b[39m\u001b[39m.\u001b[39m\u001b[39m\"\u001b[39m\u001b[39m'\u001b[39m)\n\u001b[1;32m----> <a href='vscode-notebook-cell:/c%3A/Users/cabez/OneDrive/Escritorio/Data%20Science/Ejercicios_python/Ejercicios_resueltos.ipynb#X64sZmlsZQ%3D%3D?line=1'>2</a>\u001b[0m a \u001b[39m=\u001b[39m \u001b[39mfloat\u001b[39;49m(\u001b[39m'\u001b[39;49m\u001b[39m3,8\u001b[39;49m\u001b[39m'\u001b[39;49m)\n\u001b[0;32m      <a href='vscode-notebook-cell:/c%3A/Users/cabez/OneDrive/Escritorio/Data%20Science/Ejercicios_python/Ejercicios_resueltos.ipynb#X64sZmlsZQ%3D%3D?line=2'>3</a>\u001b[0m \u001b[39mprint\u001b[39m(a)\n",
      "\u001b[1;31mValueError\u001b[0m: could not convert string to float: '3,8'"
     ]
    }
   ],
   "source": [
    "print('La funcion float no podra convertir el valor de a = 3,6 porque literalmente es un string, el signo \",\" que usamos en nuestra codificacion, \\n para separar decimales no se usa a nivel internacional. Para separar decimales se usa el \".\"')\n",
    "a = float('3,8')\n",
    "print(a)"
   ]
  },
  {
   "cell_type": "markdown",
   "metadata": {},
   "source": [
    "21) Crear una variable con el valor 3, y utilizar el operador '-=' para modificar su contenido y que de como resultado 2."
   ]
  },
  {
   "cell_type": "code",
   "execution_count": 7,
   "metadata": {},
   "outputs": [
    {
     "name": "stdout",
     "output_type": "stream",
     "text": [
      "2\n"
     ]
    }
   ],
   "source": [
    "b = 3\n",
    "b -= 1\n",
    "print(b)"
   ]
  },
  {
   "cell_type": "markdown",
   "metadata": {},
   "source": [
    "22) Realizar la operación 2 + '2' ¿Por qué no está permitido? ¿Si los dos operandos serían del mismo tipo, siempre arrojaría el mismo resultado?"
   ]
  },
  {
   "cell_type": "code",
   "execution_count": 15,
   "metadata": {},
   "outputs": [
    {
     "name": "stdout",
     "output_type": "stream",
     "text": [
      " 1. La ejecucion de este codigo dara un error porque estamos intentando sumar un numero con un string. Ver el typeError \n",
      " 2. Probar que pasaria si las dos variables fueran del mismo tipo\n"
     ]
    },
    {
     "ename": "TypeError",
     "evalue": "unsupported operand type(s) for +: 'int' and 'str'",
     "output_type": "error",
     "traceback": [
      "\u001b[1;31m---------------------------------------------------------------------------\u001b[0m",
      "\u001b[1;31mTypeError\u001b[0m                                 Traceback (most recent call last)",
      "\u001b[1;32mc:\\Users\\cabez\\OneDrive\\Escritorio\\Data Science\\Ejercicios_python\\Ejercicios_resueltos.ipynb Celda 48\u001b[0m line \u001b[0;36m5\n\u001b[0;32m      <a href='vscode-notebook-cell:/c%3A/Users/cabez/OneDrive/Escritorio/Data%20Science/Ejercicios_python/Ejercicios_resueltos.ipynb#Y101sZmlsZQ%3D%3D?line=1'>2</a>\u001b[0m variable_dos_number \u001b[39m=\u001b[39m \u001b[39m2\u001b[39m\n\u001b[0;32m      <a href='vscode-notebook-cell:/c%3A/Users/cabez/OneDrive/Escritorio/Data%20Science/Ejercicios_python/Ejercicios_resueltos.ipynb#Y101sZmlsZQ%3D%3D?line=2'>3</a>\u001b[0m var_dos_string \u001b[39m=\u001b[39m \u001b[39m'\u001b[39m\u001b[39m2\u001b[39m\u001b[39m'\u001b[39m\n\u001b[1;32m----> <a href='vscode-notebook-cell:/c%3A/Users/cabez/OneDrive/Escritorio/Data%20Science/Ejercicios_python/Ejercicios_resueltos.ipynb#Y101sZmlsZQ%3D%3D?line=4'>5</a>\u001b[0m \u001b[39mprint\u001b[39m(variable_dos_number\u001b[39m+\u001b[39;49mvar_dos_string)\n",
      "\u001b[1;31mTypeError\u001b[0m: unsupported operand type(s) for +: 'int' and 'str'"
     ]
    }
   ],
   "source": [
    "print(' 1. La ejecucion de este codigo dara un error porque estamos intentando sumar un numero con un string. Ver el typeError','\\n', '2. Probar que pasaria si las dos variables fueran del mismo tipo')\n",
    "variable_dos_number = 2\n",
    "var_dos_string = '2'\n",
    "\n",
    "print(variable_dos_number+var_dos_string)"
   ]
  },
  {
   "cell_type": "markdown",
   "metadata": {},
   "source": [
    "23) Realizar una operación válida entre valores de tipo entero y string"
   ]
  },
  {
   "cell_type": "code",
   "execution_count": 17,
   "metadata": {},
   "outputs": [
    {
     "name": "stdout",
     "output_type": "stream",
     "text": [
      "Hay algunas operaciones que son validas para hacer entre strings y numbers, por ejemplo: repeat\n",
      "Hola mundo! Hola mundo! \n"
     ]
    }
   ],
   "source": [
    "print('Hay algunas operaciones que son validas para hacer entre strings y numbers, por ejemplo: repeat')\n",
    "\n",
    "multiplicador = 2\n",
    "texto_a_multiplicar = 'Hola mundo! '\n",
    "\n",
    "mensaje = multiplicador * texto_a_multiplicar\n",
    "\n",
    "print(mensaje)"
   ]
  },
  {
   "cell_type": "markdown",
   "metadata": {},
   "source": [
    "## Flujos de Control"
   ]
  },
  {
   "cell_type": "markdown",
   "metadata": {},
   "source": [
    "24) Crear una variable que contenga un elemento del conjunto de números enteros y luego imprimir por pantalla si es mayor o menor a cero"
   ]
  },
  {
   "cell_type": "code",
   "execution_count": 18,
   "metadata": {},
   "outputs": [
    {
     "name": "stdout",
     "output_type": "stream",
     "text": [
      "la variable es mayor a 0\n"
     ]
    }
   ],
   "source": [
    "var_num_entero = 5\n",
    "\n",
    "if var_num_entero > 0:\n",
    "  print('la variable es mayor a 0')\n",
    "elif var_num_entero < 0:\n",
    "  print('La variable es menor a cero')\n",
    "else:\n",
    "  print('La variable es igual a cero')"
   ]
  },
  {
   "cell_type": "markdown",
   "metadata": {},
   "source": [
    "25) Crear dos variables y un condicional que informe si son del mismo tipo de dato"
   ]
  },
  {
   "cell_type": "code",
   "execution_count": 19,
   "metadata": {},
   "outputs": [
    {
     "name": "stdout",
     "output_type": "stream",
     "text": [
      "Las variables no son del mismo tipo\n"
     ]
    }
   ],
   "source": [
    "variable_uno = 'hola'\n",
    "variable_dos = 25\n",
    "\n",
    "if type(variable_uno) == type(variable_dos):\n",
    "  print('Las variables son del mismo tipo')\n",
    "else:\n",
    "  print('Las variables no son del mismo tipo')"
   ]
  },
  {
   "cell_type": "markdown",
   "metadata": {},
   "source": [
    "26) Para los valores enteros del 1 al 20, imprimir por pantalla si es par o impar"
   ]
  },
  {
   "cell_type": "code",
   "execution_count": 20,
   "metadata": {},
   "outputs": [
    {
     "name": "stdout",
     "output_type": "stream",
     "text": [
      "es impar\n",
      "es par\n",
      "es impar\n",
      "es par\n",
      "es impar\n",
      "es par\n",
      "es impar\n",
      "es par\n",
      "es impar\n",
      "es par\n",
      "es impar\n",
      "es par\n",
      "es impar\n",
      "es par\n",
      "es impar\n",
      "es par\n",
      "es impar\n",
      "es par\n",
      "es impar\n",
      "es par\n"
     ]
    }
   ],
   "source": [
    "for numero in range(1,21):\n",
    "  if numero%2 == 0:\n",
    "    print('es par')\n",
    "  else:\n",
    "    print('es impar')"
   ]
  },
  {
   "cell_type": "markdown",
   "metadata": {},
   "source": [
    "27) En un ciclo for mostrar para los valores entre 0 y 5 el resultado de elevarlo a la potencia igual a 3"
   ]
  },
  {
   "cell_type": "code",
   "execution_count": 23,
   "metadata": {},
   "outputs": [
    {
     "name": "stdout",
     "output_type": "stream",
     "text": [
      "El numero: 0 elevado a la 3era potencia es: 0\n",
      "El numero: 1 elevado a la 3era potencia es: 1\n",
      "El numero: 2 elevado a la 3era potencia es: 8\n",
      "El numero: 3 elevado a la 3era potencia es: 27\n",
      "El numero: 4 elevado a la 3era potencia es: 64\n",
      "El numero: 5 elevado a la 3era potencia es: 125\n"
     ]
    }
   ],
   "source": [
    "for i in range(0,6):\n",
    "  print('El numero:',i,'elevado a la 3era potencia es:',i ** 3)"
   ]
  },
  {
   "cell_type": "markdown",
   "metadata": {},
   "source": [
    "28) Crear una variable que contenga un número entero y realizar un ciclo for la misma cantidad de ciclos"
   ]
  },
  {
   "cell_type": "code",
   "execution_count": 25,
   "metadata": {},
   "outputs": [
    {
     "name": "stdout",
     "output_type": "stream",
     "text": [
      "este es el ciclo numero: 0\n",
      "este es el ciclo numero: 1\n",
      "este es el ciclo numero: 2\n",
      "este es el ciclo numero: 3\n",
      "este es el ciclo numero: 4\n"
     ]
    }
   ],
   "source": [
    "variable_con_un_numero_entero = 5\n",
    "for i in range(0,variable_con_un_numero_entero):\n",
    "  print('este es el ciclo numero:',i)"
   ]
  },
  {
   "cell_type": "markdown",
   "metadata": {},
   "source": [
    "29) Utilizar un ciclo while para realizar el factorial de un número guardado en una variable, sólo si la variable contiene un número entero mayor a 0"
   ]
  },
  {
   "cell_type": "code",
   "execution_count": 13,
   "metadata": {},
   "outputs": [
    {
     "name": "stdout",
     "output_type": "stream",
     "text": [
      "El factorial de 6 es 720\n"
     ]
    }
   ],
   "source": [
    "n = 6\n",
    "if type(n) == int:\n",
    "  if n > 0:\n",
    "    numero = n\n",
    "    factorial = 1\n",
    "    i = 0\n",
    "    while i < n:\n",
    "      factorial = factorial * (i + 1)\n",
    "      i += 1\n",
    "    print('El factorial de',numero,'es',factorial)\n",
    "  else:\n",
    "    print('El numero',n,'no es positivo')\n",
    "else:\n",
    "  print('La variable',n,'no es un entero')"
   ]
  },
  {
   "cell_type": "markdown",
   "metadata": {},
   "source": [
    "30) Crear un ciclo for dentro de un ciclo while"
   ]
  },
  {
   "cell_type": "code",
   "execution_count": 16,
   "metadata": {},
   "outputs": [
    {
     "name": "stdout",
     "output_type": "stream",
     "text": [
      "este es el ciclo 1 del while\n",
      "este el ciclo 1 dentro del ciclo for\n",
      "este es el ciclo 2 del while\n",
      "este el ciclo 1 dentro del ciclo for\n",
      "este el ciclo 2 dentro del ciclo for\n",
      "este es el ciclo 3 del while\n",
      "este el ciclo 1 dentro del ciclo for\n",
      "este el ciclo 2 dentro del ciclo for\n",
      "este el ciclo 3 dentro del ciclo for\n",
      "este es el ciclo 4 del while\n",
      "este el ciclo 1 dentro del ciclo for\n",
      "este el ciclo 2 dentro del ciclo for\n",
      "este el ciclo 3 dentro del ciclo for\n",
      "este el ciclo 4 dentro del ciclo for\n"
     ]
    }
   ],
   "source": [
    "j = 1\n",
    "while j < 5:\n",
    "  print('este es el ciclo',j,'del while')\n",
    "  for i in range(1,j+1):\n",
    "    print('este el ciclo',i,'dentro del ciclo for')\n",
    "  j += 1"
   ]
  },
  {
   "cell_type": "markdown",
   "metadata": {},
   "source": [
    "31) Crear un ciclo while dentro de un ciclo for"
   ]
  },
  {
   "cell_type": "code",
   "execution_count": 19,
   "metadata": {},
   "outputs": [
    {
     "name": "stdout",
     "output_type": "stream",
     "text": [
      "este es el ciclo 1 del ciclo for\n",
      "este el ciclo 5 dentro del ciclo while\n",
      "este el ciclo 4 dentro del ciclo while\n",
      "este el ciclo 3 dentro del ciclo while\n",
      "este el ciclo 2 dentro del ciclo while\n",
      "este el ciclo 1 dentro del ciclo while\n",
      "este es el ciclo 2 del ciclo for\n",
      "este el ciclo 5 dentro del ciclo while\n",
      "este el ciclo 4 dentro del ciclo while\n",
      "este el ciclo 3 dentro del ciclo while\n",
      "este el ciclo 2 dentro del ciclo while\n",
      "este el ciclo 1 dentro del ciclo while\n",
      "este es el ciclo 3 del ciclo for\n",
      "este el ciclo 5 dentro del ciclo while\n",
      "este el ciclo 4 dentro del ciclo while\n",
      "este el ciclo 3 dentro del ciclo while\n",
      "este el ciclo 2 dentro del ciclo while\n",
      "este el ciclo 1 dentro del ciclo while\n",
      "este es el ciclo 4 del ciclo for\n",
      "este el ciclo 5 dentro del ciclo while\n",
      "este el ciclo 4 dentro del ciclo while\n",
      "este el ciclo 3 dentro del ciclo while\n",
      "este el ciclo 2 dentro del ciclo while\n",
      "este el ciclo 1 dentro del ciclo while\n"
     ]
    }
   ],
   "source": [
    "k = 5\n",
    "for i in range(1,k):\n",
    "  print('este es el ciclo',i,'del ciclo for')\n",
    "  k_temp = k\n",
    "  while k_temp > 0:\n",
    "    print('este el ciclo',k_temp,'dentro del ciclo while')\n",
    "    k_temp -= 1\n",
    "\n",
    "    if k_temp <= 0:\n",
    "      break"
   ]
  },
  {
   "cell_type": "markdown",
   "metadata": {},
   "source": [
    "32) Imprimir los números primos existentes entre 0 y 30"
   ]
  },
  {
   "cell_type": "code",
   "execution_count": 22,
   "metadata": {},
   "outputs": [
    {
     "name": "stdout",
     "output_type": "stream",
     "text": [
      "1\n",
      "2\n",
      "3\n",
      "5\n",
      "7\n",
      "11\n",
      "13\n",
      "17\n",
      "19\n",
      "23\n",
      "29\n"
     ]
    }
   ],
   "source": [
    "# Recomiendo leer los comentarios de iteracion en iteracion\n",
    "tope_rango = 30\n",
    "n = 1\n",
    "primo = True #concepto de \"bandera\", la variable primo es una bandera\n",
    "\n",
    "while n < tope_rango:\n",
    "  # PRIMER ITERACION: arranca inicialmente con n = 1 porque asi lo definimos inicialmente\n",
    "  # SEGUNDA ITERACION: n = 2\n",
    "  # TERCER ITERACION: n = 3\n",
    "  # CUARTA ITERACION: n = 4\n",
    "  for i in range(2,n): # PRIMER ITERACION: range toma el rango entre 2 y 1 => no entra en el for\n",
    "                       # SEGUNDA ITERACION: range toma el rango entre 2 y 2 => no entra al ciclo for\n",
    "                       # TERCER ITERACION: range toma el rango entre 2 y 3 OJO! que range NO CONTIENE, NO INCLUYE al nro final => no entra al for\n",
    "                       # CUARTA ITERACION: range entre 2 y 4 => i podra tomar el valor 2 y 3\n",
    "    if n % i == 0: # CUARTA ITERACION: n = 4 => para i = 2 => n % i (4 % 2) es igual a 0, entra al if\n",
    "                   # CUARTA ITERACION: n = 4 => para i = 3 => n % i (4 % 3) NO es igual a 0, no entra al if, pero la bandera ya quedo seteada en False de la iteracion anterior\n",
    "      primo = False # CUARTA ITERACION: valor if seteado en False\n",
    "  if primo: # PRIMER ITERACION: como la bandera arranca en True, entra al if e imprime el numero 1\n",
    "            # SEGUNDA ITERACION: la bandera continua en True, entra al if e imprime el numero 2\n",
    "            # TERCER ITERACION: la bandera continua en True, entra al if e imprime el numero 3\n",
    "            # CUARTA ITERACION: en esta iteracion no se entra al if porque la condicion es falsa, continua al else\n",
    "    print(n)\n",
    "  else: # CUARTA ITERACION: el algoritmo continua aqui porque no puedo entrar en la condicion True\n",
    "    primo = True\n",
    "  n += 1 # PRIMER ITERACION: entra con n = 1 entonces actualiza el valor y cambia n = 1 por n = 2\n",
    "         # SEGUNDA ITERACION: n = 2 entonces actualiza el valor y cambia n = 2 por n = 3\n",
    "         # TERCER ITERACION: n = 3, entonces actualiza el valor y cambia n = 3 por n = 4\n",
    "         # CUARTA ITERACION: n = 4, entonces actualiza el valor y cambia n = 4 por n = 5"
   ]
  },
  {
   "cell_type": "markdown",
   "metadata": {},
   "source": [
    "33) ¿Se puede mejorar el proceso del punto 32? Utilizar las sentencias break y/ó continue para tal fin"
   ]
  },
  {
   "cell_type": "code",
   "execution_count": 23,
   "metadata": {},
   "outputs": [
    {
     "name": "stdout",
     "output_type": "stream",
     "text": [
      "1\n",
      "2\n",
      "3\n",
      "5\n",
      "7\n",
      "11\n",
      "13\n",
      "17\n",
      "19\n",
      "23\n",
      "29\n"
     ]
    }
   ],
   "source": [
    "n=1\n",
    "tope_rango = 30\n",
    "primo = True\n",
    "while (n < tope_rango):\n",
    "    for i in range(2,n):\n",
    "        if(n % i == 0):\n",
    "            primo = False\n",
    "            break # ya si encuentro 1 numero que me cambie la bandera no se cumple la definicion de primo, puedo interrumpir el proceso\n",
    "    if(primo):\n",
    "        print(n)\n",
    "    else:\n",
    "        primo=True\n",
    "    n += 1"
   ]
  },
  {
   "cell_type": "markdown",
   "metadata": {},
   "source": [
    "34) Aplicando continue, armar un ciclo while que solo imprima los valores divisibles por 12, dentro del rango de números de 100 a 300"
   ]
  },
  {
   "cell_type": "code",
   "execution_count": 26,
   "metadata": {},
   "outputs": [
    {
     "name": "stdout",
     "output_type": "stream",
     "text": [
      "108\n",
      "120\n",
      "132\n",
      "144\n",
      "156\n",
      "168\n",
      "180\n",
      "192\n",
      "204\n",
      "216\n",
      "228\n",
      "240\n",
      "252\n",
      "264\n",
      "276\n",
      "288\n",
      "300\n"
     ]
    }
   ],
   "source": [
    "valor_inicial = 99\n",
    "valor_final = 300\n",
    "\n",
    "while valor_inicial < valor_final:\n",
    "  valor_inicial += 1 # aqui el valor a verificar si es multiplo de 12 es 100\n",
    "  if valor_inicial % 12 != 0: # hay muchos valores que no seran multiplos de 12, entonces se entrara al if con frecuencia y se ejecutara \n",
    "                              # el \"continue\"\n",
    "    continue # va a hacer que el algoritmo \"se salte\" el print\n",
    "  print(valor_inicial)"
   ]
  },
  {
   "cell_type": "markdown",
   "metadata": {},
   "source": [
    "35) Crear un ciclo while que encuentre dentro del rango de 100 a 300 el primer número divisible por 3 y además múltiplo de 6"
   ]
  },
  {
   "cell_type": "code",
   "execution_count": 34,
   "metadata": {},
   "outputs": [
    {
     "name": "stdout",
     "output_type": "stream",
     "text": [
      "102\n",
      "102 / 3 = 34\n",
      "102 / 6 = 17\n"
     ]
    }
   ],
   "source": [
    "# Regla matematica: para que un numero sea divisible en 6 debe serlo en 2 y 3 => un numero divisible en 6 tambien sera divible en 3\n",
    "# Los siguientes comentarios son MUY nerds, pero pueden interesarte:\n",
    "# Logica propocicional:\n",
    "# Definir proposiciones:\n",
    "#   P: \"Un número es divisible por 6.\"\n",
    "#   Q: \"Un número es divisible por 2.\"\n",
    "#   R: \"Un número es divisible por 3.\"\n",
    "#\n",
    "#   (P ⇒ (Q ∧ R)) ⇒ (P ⇒ R)\n",
    "#   por ley de la lógica proposicional: \"Simplificación\"\n",
    "#   P ⇒ R\n",
    "\n",
    "valor_inicial = 100\n",
    "valor_final = 300\n",
    "\n",
    "while valor_inicial < valor_final:\n",
    "  if valor_inicial % 6 == 0:\n",
    "    print(valor_inicial)\n",
    "    break # como el enunciado pide el primero, listo, encuentro el primero y break\n",
    "  valor_inicial += 1\n",
    "print('102 / 3 = 34')\n",
    "print('102 / 6 = 17')"
   ]
  },
  {
   "cell_type": "markdown",
   "metadata": {},
   "source": [
    "#### Exercise 1\n",
    "You will build a program that takes a value, integer , and returns a list of its multiples up to another value, limit . If limit is a multiple of integer, it should be included as well. There will only ever be positive integers passed into the function, not consisting of 0. The limit will always be higher than the base.\n",
    "\n",
    "For example, if the parameters passed are (2, 6), the function should return [2, 4, 6] as 2, 4, and 6 are the multiples of 2 up to 6."
   ]
  },
  {
   "cell_type": "code",
   "execution_count": 2,
   "metadata": {},
   "outputs": [],
   "source": [
    "def find_multiples(integer, limit):\n",
    "    list = []\n",
    "    for numero in range(1,limit+1):\n",
    "        if numero % integer == 0:\n",
    "            list.append(numero)\n",
    "    return list"
   ]
  },
  {
   "cell_type": "code",
   "execution_count": 3,
   "metadata": {},
   "outputs": [
    {
     "data": {
      "text/plain": [
       "[5, 10, 15, 20, 25]"
      ]
     },
     "execution_count": 3,
     "metadata": {},
     "output_type": "execute_result"
    }
   ],
   "source": [
    "find_multiples(5, 25)"
   ]
  }
 ],
 "metadata": {
  "kernelspec": {
   "display_name": "Python 3",
   "language": "python",
   "name": "python3"
  },
  "language_info": {
   "codemirror_mode": {
    "name": "ipython",
    "version": 3
   },
   "file_extension": ".py",
   "mimetype": "text/x-python",
   "name": "python",
   "nbconvert_exporter": "python",
   "pygments_lexer": "ipython3",
   "version": "3.11.5"
  },
  "orig_nbformat": 4
 },
 "nbformat": 4,
 "nbformat_minor": 2
}
