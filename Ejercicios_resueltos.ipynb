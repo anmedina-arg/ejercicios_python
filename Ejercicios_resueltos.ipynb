{
 "cells": [
  {
   "cell_type": "markdown",
   "metadata": {},
   "source": [
    "# EJERCICIOS PYTHON"
   ]
  },
  {
   "cell_type": "markdown",
   "metadata": {},
   "source": [
    "En este archivo vamos a encontrar varios ejercicios para resolver, practicar e ir aprendiendo python!"
   ]
  },
  {
   "cell_type": "markdown",
   "metadata": {},
   "source": [
    "Vamos a ir desde los más fáciles a los más difíciles... Comencemos!"
   ]
  },
  {
   "cell_type": "markdown",
   "metadata": {},
   "source": [
    "## Variables"
   ]
  },
  {
   "cell_type": "markdown",
   "metadata": {},
   "source": [
    "1) Crear una variable que contenga un elemento del conjunto de números enteros y luego imprimir por pantalla"
   ]
  },
  {
   "cell_type": "code",
   "execution_count": 4,
   "metadata": {},
   "outputs": [
    {
     "name": "stdout",
     "output_type": "stream",
     "text": [
      "El numero es 8\n"
     ]
    }
   ],
   "source": [
    "numero = 8\n",
    "print('El numero es',numero)"
   ]
  },
  {
   "cell_type": "markdown",
   "metadata": {},
   "source": [
    "2) Imprimir el tipo de dato de la constante 8.5"
   ]
  },
  {
   "cell_type": "code",
   "execution_count": 5,
   "metadata": {},
   "outputs": [
    {
     "name": "stdout",
     "output_type": "stream",
     "text": [
      "<class 'float'>\n"
     ]
    }
   ],
   "source": [
    "print(type(8.5))"
   ]
  },
  {
   "cell_type": "markdown",
   "metadata": {},
   "source": [
    "3) Imprimir el tipo de dato de la variable creada en el punto 1"
   ]
  },
  {
   "cell_type": "code",
   "execution_count": 6,
   "metadata": {},
   "outputs": [
    {
     "name": "stdout",
     "output_type": "stream",
     "text": [
      "<class 'int'>\n"
     ]
    }
   ],
   "source": [
    "print(type(numero))"
   ]
  },
  {
   "cell_type": "markdown",
   "metadata": {},
   "source": [
    "4) Crear una variable que contenga tu nombre"
   ]
  },
  {
   "cell_type": "code",
   "execution_count": 7,
   "metadata": {},
   "outputs": [],
   "source": [
    "nombre = 'Andres'"
   ]
  },
  {
   "cell_type": "markdown",
   "metadata": {},
   "source": [
    "5) Mostrar el tipo de dato de la variable crada en el punto 4"
   ]
  },
  {
   "cell_type": "code",
   "execution_count": 8,
   "metadata": {},
   "outputs": [
    {
     "name": "stdout",
     "output_type": "stream",
     "text": [
      "<class 'str'>\n"
     ]
    }
   ],
   "source": [
    "print(type(nombre))"
   ]
  },
  {
   "cell_type": "markdown",
   "metadata": {},
   "source": [
    "6) Crear una variable que contenga el valor del número Pi redondeado a 4 decimales"
   ]
  },
  {
   "cell_type": "code",
   "execution_count": 9,
   "metadata": {},
   "outputs": [],
   "source": [
    "pi = 3.1415"
   ]
  },
  {
   "cell_type": "markdown",
   "metadata": {},
   "source": [
    "7) Crear una variable que contenga el valor 'True' y otra que contenga el valor True. ¿Se trata de lo mismo?"
   ]
  },
  {
   "cell_type": "code",
   "execution_count": 11,
   "metadata": {},
   "outputs": [
    {
     "name": "stdout",
     "output_type": "stream",
     "text": [
      "No se trata de lo mismo, mientras que \"true_string\" es una variable del tipo <class 'str'> true_bool es una variable del tipo <class 'bool'>\n"
     ]
    }
   ],
   "source": [
    "true_string = 'True'\n",
    "true_bool = True\n",
    "\n",
    "print('No se trata de lo mismo, mientras que \"true_string\" es una variable del tipo',type(true_string),'true_bool es una variable del tipo',type(true_bool))"
   ]
  },
  {
   "cell_type": "markdown",
   "metadata": {},
   "source": [
    "8) Imprimir el tipo de dato correspondientes a las variables creadas en el punto 7"
   ]
  },
  {
   "cell_type": "code",
   "execution_count": 13,
   "metadata": {},
   "outputs": [
    {
     "name": "stdout",
     "output_type": "stream",
     "text": [
      "<class 'bool'>\n",
      "<class 'str'>\n"
     ]
    }
   ],
   "source": [
    "print(type(true_bool))\n",
    "print(type(true_string))"
   ]
  },
  {
   "cell_type": "markdown",
   "metadata": {},
   "source": [
    "9) Asignar a una variable, la suma de un número entero y otro decimal"
   ]
  },
  {
   "cell_type": "code",
   "execution_count": 14,
   "metadata": {},
   "outputs": [],
   "source": [
    "variable_numeros_mixta = 5 + 1.5"
   ]
  },
  {
   "cell_type": "markdown",
   "metadata": {},
   "source": [
    "10) Realizar una operación de suma de números complejos"
   ]
  },
  {
   "cell_type": "code",
   "execution_count": 18,
   "metadata": {},
   "outputs": [
    {
     "name": "stdout",
     "output_type": "stream",
     "text": [
      "El primer numero complejo es: 5j ; el segundo numero complejo es: (5-2j) . La suma de ambos es:  (5+3j)\n"
     ]
    }
   ],
   "source": [
    "complejo_uno = 0 +5j\n",
    "complejo_dos = 5 -2j\n",
    "suma_complejos = complejo_uno + complejo_dos\n",
    "print('El primer numero complejo es:',complejo_uno,'; el segundo numero complejo es:',complejo_dos,'. La suma de ambos es: ',suma_complejos)"
   ]
  },
  {
   "cell_type": "markdown",
   "metadata": {},
   "source": [
    "11) Realizar una operación de multiplicación"
   ]
  },
  {
   "cell_type": "code",
   "execution_count": 19,
   "metadata": {},
   "outputs": [
    {
     "name": "stdout",
     "output_type": "stream",
     "text": [
      "12\n"
     ]
    }
   ],
   "source": [
    "multiplicacion = 2 * 6\n",
    "print(multiplicacion)"
   ]
  },
  {
   "cell_type": "markdown",
   "metadata": {},
   "source": [
    "12) Mostrar el resultado de elevar 2 a la octava potencia"
   ]
  },
  {
   "cell_type": "code",
   "execution_count": 21,
   "metadata": {},
   "outputs": [
    {
     "name": "stdout",
     "output_type": "stream",
     "text": [
      "256\n"
     ]
    }
   ],
   "source": [
    "potencia_de_dos = 2 ** 8\n",
    "print(potencia_de_dos)"
   ]
  },
  {
   "cell_type": "markdown",
   "metadata": {},
   "source": [
    "13) Obtener el cociente de la división de 27 entre 4 en una variable y luego mostrarla"
   ]
  },
  {
   "cell_type": "code",
   "execution_count": 22,
   "metadata": {},
   "outputs": [
    {
     "name": "stdout",
     "output_type": "stream",
     "text": [
      "6.75\n"
     ]
    }
   ],
   "source": [
    "cociente = 27 / 4\n",
    "print(cociente)"
   ]
  },
  {
   "cell_type": "markdown",
   "metadata": {},
   "source": [
    "14) De la división anterior solamente mostrar la parte entera"
   ]
  },
  {
   "cell_type": "code",
   "execution_count": 23,
   "metadata": {},
   "outputs": [
    {
     "name": "stdout",
     "output_type": "stream",
     "text": [
      "6\n"
     ]
    }
   ],
   "source": [
    "cociente_entero = 27 // 4\n",
    "print(cociente_entero)"
   ]
  },
  {
   "cell_type": "markdown",
   "metadata": {},
   "source": [
    "15) De la división de 27 entre 4 mostrar solamente el resto"
   ]
  },
  {
   "cell_type": "code",
   "execution_count": 24,
   "metadata": {},
   "outputs": [
    {
     "name": "stdout",
     "output_type": "stream",
     "text": [
      "3\n"
     ]
    }
   ],
   "source": [
    "resto_division = 27 % 4\n",
    "print(resto_division)"
   ]
  },
  {
   "cell_type": "markdown",
   "metadata": {},
   "source": [
    "16) Utilizando como operandos el número 4 y los resultados obtenidos en los puntos 14 y 15. Obtener 27 como resultado"
   ]
  },
  {
   "cell_type": "code",
   "execution_count": 27,
   "metadata": {},
   "outputs": [
    {
     "name": "stdout",
     "output_type": "stream",
     "text": [
      "27\n"
     ]
    }
   ],
   "source": [
    "numero_veintisiete = cociente_entero * 4 + resto_division\n",
    "print(numero_veintisiete)"
   ]
  },
  {
   "cell_type": "markdown",
   "metadata": {},
   "source": [
    "17) Utilizar el operador \"+\" en una operación donde intervengan solo variables alfanuméricas"
   ]
  },
  {
   "cell_type": "code",
   "execution_count": 29,
   "metadata": {},
   "outputs": [
    {
     "name": "stdout",
     "output_type": "stream",
     "text": [
      "#5522\n"
     ]
    }
   ],
   "source": [
    "var_alfa_uno = '#55'\n",
    "var_alfa_dos = '22'\n",
    "var_alfa_suma = var_alfa_uno + var_alfa_dos\n",
    "print(var_alfa_suma)"
   ]
  },
  {
   "cell_type": "markdown",
   "metadata": {},
   "source": [
    "18) Evaluar si \"2\" es igual a 2. ¿Por qué ocurre eso?"
   ]
  },
  {
   "cell_type": "code",
   "execution_count": 31,
   "metadata": {},
   "outputs": [
    {
     "name": "stdout",
     "output_type": "stream",
     "text": [
      "No son iguales porque uno es del tipo string y el otro es de tipo number\n"
     ]
    }
   ],
   "source": [
    "2 == '2'\n",
    "print('No son iguales porque uno es del tipo string y el otro es de tipo number')"
   ]
  },
  {
   "cell_type": "markdown",
   "metadata": {},
   "source": [
    "19) Utilizar las funciones de cambio de tipo de dato, para que la validación del punto 18 resulte verdadera"
   ]
  },
  {
   "cell_type": "code",
   "execution_count": 35,
   "metadata": {},
   "outputs": [
    {
     "name": "stdout",
     "output_type": "stream",
     "text": [
      "True\n",
      "True\n",
      "en un caso se usa la funcion para convertir un string y en otro para convertir a un integer\n"
     ]
    }
   ],
   "source": [
    "print(str(2) == '2')\n",
    "print(2 == int('2'))\n",
    "\n",
    "print('en un caso se usa la funcion para convertir un string y en otro para convertir a un integer')"
   ]
  },
  {
   "cell_type": "markdown",
   "metadata": {},
   "source": [
    "20) ¿Por qué arroja error el siguiente cambio de tipo de datos? a = float('3,8')"
   ]
  },
  {
   "cell_type": "code",
   "execution_count": 6,
   "metadata": {},
   "outputs": [
    {
     "name": "stdout",
     "output_type": "stream",
     "text": [
      "La funcion float no podra convertir el valor de a = 3,6 porque literalmente es un string, el signo \",\" que usamos en nuestra codificacion, \n",
      " para separar decimales no se usa a nivel internacional. Para separar decimales se usa el \".\"\n"
     ]
    },
    {
     "ename": "ValueError",
     "evalue": "could not convert string to float: '3,8'",
     "output_type": "error",
     "traceback": [
      "\u001b[1;31m---------------------------------------------------------------------------\u001b[0m",
      "\u001b[1;31mValueError\u001b[0m                                Traceback (most recent call last)",
      "\u001b[1;32mc:\\Users\\cabez\\OneDrive\\Escritorio\\Data Science\\Ejercicios_python\\Ejercicios_resueltos.ipynb Celda 44\u001b[0m line \u001b[0;36m2\n\u001b[0;32m      <a href='vscode-notebook-cell:/c%3A/Users/cabez/OneDrive/Escritorio/Data%20Science/Ejercicios_python/Ejercicios_resueltos.ipynb#X64sZmlsZQ%3D%3D?line=0'>1</a>\u001b[0m \u001b[39mprint\u001b[39m(\u001b[39m'\u001b[39m\u001b[39mLa funcion float no podra convertir el valor de a = 3,6 porque literalmente es un string, el signo \u001b[39m\u001b[39m\"\u001b[39m\u001b[39m,\u001b[39m\u001b[39m\"\u001b[39m\u001b[39m que usamos en nuestra codificacion, \u001b[39m\u001b[39m\\n\u001b[39;00m\u001b[39m para separar decimales no se usa a nivel internacional. Para separar decimales se usa el \u001b[39m\u001b[39m\"\u001b[39m\u001b[39m.\u001b[39m\u001b[39m\"\u001b[39m\u001b[39m'\u001b[39m)\n\u001b[1;32m----> <a href='vscode-notebook-cell:/c%3A/Users/cabez/OneDrive/Escritorio/Data%20Science/Ejercicios_python/Ejercicios_resueltos.ipynb#X64sZmlsZQ%3D%3D?line=1'>2</a>\u001b[0m a \u001b[39m=\u001b[39m \u001b[39mfloat\u001b[39;49m(\u001b[39m'\u001b[39;49m\u001b[39m3,8\u001b[39;49m\u001b[39m'\u001b[39;49m)\n\u001b[0;32m      <a href='vscode-notebook-cell:/c%3A/Users/cabez/OneDrive/Escritorio/Data%20Science/Ejercicios_python/Ejercicios_resueltos.ipynb#X64sZmlsZQ%3D%3D?line=2'>3</a>\u001b[0m \u001b[39mprint\u001b[39m(a)\n",
      "\u001b[1;31mValueError\u001b[0m: could not convert string to float: '3,8'"
     ]
    }
   ],
   "source": [
    "print('La funcion float no podra convertir el valor de a = 3,6 porque literalmente es un string, el signo \",\" que usamos en nuestra codificacion, \\n para separar decimales no se usa a nivel internacional. Para separar decimales se usa el \".\"')\n",
    "a = float('3,8')\n",
    "print(a)"
   ]
  },
  {
   "cell_type": "markdown",
   "metadata": {},
   "source": [
    "21) Crear una variable con el valor 3, y utilizar el operador '-=' para modificar su contenido y que de como resultado 2."
   ]
  },
  {
   "cell_type": "code",
   "execution_count": 7,
   "metadata": {},
   "outputs": [
    {
     "name": "stdout",
     "output_type": "stream",
     "text": [
      "2\n"
     ]
    }
   ],
   "source": [
    "b = 3\n",
    "b -= 1\n",
    "print(b)"
   ]
  },
  {
   "cell_type": "markdown",
   "metadata": {},
   "source": [
    "22) Realizar la operación 2 + '2' ¿Por qué no está permitido? ¿Si los dos operandos serían del mismo tipo, siempre arrojaría el mismo resultado?"
   ]
  },
  {
   "cell_type": "code",
   "execution_count": 15,
   "metadata": {},
   "outputs": [
    {
     "name": "stdout",
     "output_type": "stream",
     "text": [
      " 1. La ejecucion de este codigo dara un error porque estamos intentando sumar un numero con un string. Ver el typeError \n",
      " 2. Probar que pasaria si las dos variables fueran del mismo tipo\n"
     ]
    },
    {
     "ename": "TypeError",
     "evalue": "unsupported operand type(s) for +: 'int' and 'str'",
     "output_type": "error",
     "traceback": [
      "\u001b[1;31m---------------------------------------------------------------------------\u001b[0m",
      "\u001b[1;31mTypeError\u001b[0m                                 Traceback (most recent call last)",
      "\u001b[1;32mc:\\Users\\cabez\\OneDrive\\Escritorio\\Data Science\\Ejercicios_python\\Ejercicios_resueltos.ipynb Celda 48\u001b[0m line \u001b[0;36m5\n\u001b[0;32m      <a href='vscode-notebook-cell:/c%3A/Users/cabez/OneDrive/Escritorio/Data%20Science/Ejercicios_python/Ejercicios_resueltos.ipynb#Y101sZmlsZQ%3D%3D?line=1'>2</a>\u001b[0m variable_dos_number \u001b[39m=\u001b[39m \u001b[39m2\u001b[39m\n\u001b[0;32m      <a href='vscode-notebook-cell:/c%3A/Users/cabez/OneDrive/Escritorio/Data%20Science/Ejercicios_python/Ejercicios_resueltos.ipynb#Y101sZmlsZQ%3D%3D?line=2'>3</a>\u001b[0m var_dos_string \u001b[39m=\u001b[39m \u001b[39m'\u001b[39m\u001b[39m2\u001b[39m\u001b[39m'\u001b[39m\n\u001b[1;32m----> <a href='vscode-notebook-cell:/c%3A/Users/cabez/OneDrive/Escritorio/Data%20Science/Ejercicios_python/Ejercicios_resueltos.ipynb#Y101sZmlsZQ%3D%3D?line=4'>5</a>\u001b[0m \u001b[39mprint\u001b[39m(variable_dos_number\u001b[39m+\u001b[39;49mvar_dos_string)\n",
      "\u001b[1;31mTypeError\u001b[0m: unsupported operand type(s) for +: 'int' and 'str'"
     ]
    }
   ],
   "source": [
    "print(' 1. La ejecucion de este codigo dara un error porque estamos intentando sumar un numero con un string. Ver el typeError','\\n', '2. Probar que pasaria si las dos variables fueran del mismo tipo')\n",
    "variable_dos_number = 2\n",
    "var_dos_string = '2'\n",
    "\n",
    "print(variable_dos_number+var_dos_string)"
   ]
  },
  {
   "cell_type": "markdown",
   "metadata": {},
   "source": [
    "23) Realizar una operación válida entre valores de tipo entero y string"
   ]
  },
  {
   "cell_type": "code",
   "execution_count": 17,
   "metadata": {},
   "outputs": [
    {
     "name": "stdout",
     "output_type": "stream",
     "text": [
      "Hay algunas operaciones que son validas para hacer entre strings y numbers, por ejemplo: repeat\n",
      "Hola mundo! Hola mundo! \n"
     ]
    }
   ],
   "source": [
    "print('Hay algunas operaciones que son validas para hacer entre strings y numbers, por ejemplo: repeat')\n",
    "\n",
    "multiplicador = 2\n",
    "texto_a_multiplicar = 'Hola mundo! '\n",
    "\n",
    "mensaje = multiplicador * texto_a_multiplicar\n",
    "\n",
    "print(mensaje)"
   ]
  },
  {
   "cell_type": "markdown",
   "metadata": {},
   "source": [
    "## Flujos de Control"
   ]
  },
  {
   "cell_type": "markdown",
   "metadata": {},
   "source": [
    "24) Crear una variable que contenga un elemento del conjunto de números enteros y luego imprimir por pantalla si es mayor o menor a cero"
   ]
  },
  {
   "cell_type": "code",
   "execution_count": 18,
   "metadata": {},
   "outputs": [
    {
     "name": "stdout",
     "output_type": "stream",
     "text": [
      "la variable es mayor a 0\n"
     ]
    }
   ],
   "source": [
    "var_num_entero = 5\n",
    "\n",
    "if var_num_entero > 0:\n",
    "  print('la variable es mayor a 0')\n",
    "elif var_num_entero < 0:\n",
    "  print('La variable es menor a cero')\n",
    "else:\n",
    "  print('La variable es igual a cero')"
   ]
  },
  {
   "cell_type": "markdown",
   "metadata": {},
   "source": [
    "25) Crear dos variables y un condicional que informe si son del mismo tipo de dato"
   ]
  },
  {
   "cell_type": "code",
   "execution_count": 19,
   "metadata": {},
   "outputs": [
    {
     "name": "stdout",
     "output_type": "stream",
     "text": [
      "Las variables no son del mismo tipo\n"
     ]
    }
   ],
   "source": [
    "variable_uno = 'hola'\n",
    "variable_dos = 25\n",
    "\n",
    "if type(variable_uno) == type(variable_dos):\n",
    "  print('Las variables son del mismo tipo')\n",
    "else:\n",
    "  print('Las variables no son del mismo tipo')"
   ]
  },
  {
   "cell_type": "markdown",
   "metadata": {},
   "source": [
    "26) Para los valores enteros del 1 al 20, imprimir por pantalla si es par o impar"
   ]
  },
  {
   "cell_type": "code",
   "execution_count": 20,
   "metadata": {},
   "outputs": [
    {
     "name": "stdout",
     "output_type": "stream",
     "text": [
      "es impar\n",
      "es par\n",
      "es impar\n",
      "es par\n",
      "es impar\n",
      "es par\n",
      "es impar\n",
      "es par\n",
      "es impar\n",
      "es par\n",
      "es impar\n",
      "es par\n",
      "es impar\n",
      "es par\n",
      "es impar\n",
      "es par\n",
      "es impar\n",
      "es par\n",
      "es impar\n",
      "es par\n"
     ]
    }
   ],
   "source": [
    "for numero in range(1,21):\n",
    "  if numero%2 == 0:\n",
    "    print('es par')\n",
    "  else:\n",
    "    print('es impar')"
   ]
  },
  {
   "cell_type": "markdown",
   "metadata": {},
   "source": [
    "27) En un ciclo for mostrar para los valores entre 0 y 5 el resultado de elevarlo a la potencia igual a 3"
   ]
  },
  {
   "cell_type": "code",
   "execution_count": 23,
   "metadata": {},
   "outputs": [
    {
     "name": "stdout",
     "output_type": "stream",
     "text": [
      "El numero: 0 elevado a la 3era potencia es: 0\n",
      "El numero: 1 elevado a la 3era potencia es: 1\n",
      "El numero: 2 elevado a la 3era potencia es: 8\n",
      "El numero: 3 elevado a la 3era potencia es: 27\n",
      "El numero: 4 elevado a la 3era potencia es: 64\n",
      "El numero: 5 elevado a la 3era potencia es: 125\n"
     ]
    }
   ],
   "source": [
    "for i in range(0,6):\n",
    "  print('El numero:',i,'elevado a la 3era potencia es:',i ** 3)"
   ]
  },
  {
   "cell_type": "markdown",
   "metadata": {},
   "source": [
    "28) Crear una variable que contenga un número entero y realizar un ciclo for la misma cantidad de ciclos"
   ]
  },
  {
   "cell_type": "code",
   "execution_count": 25,
   "metadata": {},
   "outputs": [
    {
     "name": "stdout",
     "output_type": "stream",
     "text": [
      "este es el ciclo numero: 0\n",
      "este es el ciclo numero: 1\n",
      "este es el ciclo numero: 2\n",
      "este es el ciclo numero: 3\n",
      "este es el ciclo numero: 4\n"
     ]
    }
   ],
   "source": [
    "variable_con_un_numero_entero = 5\n",
    "for i in range(0,variable_con_un_numero_entero):\n",
    "  print('este es el ciclo numero:',i)"
   ]
  },
  {
   "cell_type": "markdown",
   "metadata": {},
   "source": [
    "29) Utilizar un ciclo while para realizar el factorial de un número guardado en una variable, sólo si la variable contiene un número entero mayor a 0"
   ]
  },
  {
   "cell_type": "code",
   "execution_count": 13,
   "metadata": {},
   "outputs": [
    {
     "name": "stdout",
     "output_type": "stream",
     "text": [
      "El factorial de 6 es 720\n"
     ]
    }
   ],
   "source": [
    "n = 6\n",
    "if type(n) == int:\n",
    "  if n > 0:\n",
    "    numero = n\n",
    "    factorial = 1\n",
    "    i = 0\n",
    "    while i < n:\n",
    "      factorial = factorial * (i + 1)\n",
    "      i += 1\n",
    "    print('El factorial de',numero,'es',factorial)\n",
    "  else:\n",
    "    print('El numero',n,'no es positivo')\n",
    "else:\n",
    "  print('La variable',n,'no es un entero')"
   ]
  },
  {
   "cell_type": "markdown",
   "metadata": {},
   "source": [
    "30) Crear un ciclo for dentro de un ciclo while"
   ]
  },
  {
   "cell_type": "code",
   "execution_count": 16,
   "metadata": {},
   "outputs": [
    {
     "name": "stdout",
     "output_type": "stream",
     "text": [
      "este es el ciclo 1 del while\n",
      "este el ciclo 1 dentro del ciclo for\n",
      "este es el ciclo 2 del while\n",
      "este el ciclo 1 dentro del ciclo for\n",
      "este el ciclo 2 dentro del ciclo for\n",
      "este es el ciclo 3 del while\n",
      "este el ciclo 1 dentro del ciclo for\n",
      "este el ciclo 2 dentro del ciclo for\n",
      "este el ciclo 3 dentro del ciclo for\n",
      "este es el ciclo 4 del while\n",
      "este el ciclo 1 dentro del ciclo for\n",
      "este el ciclo 2 dentro del ciclo for\n",
      "este el ciclo 3 dentro del ciclo for\n",
      "este el ciclo 4 dentro del ciclo for\n"
     ]
    }
   ],
   "source": [
    "j = 1\n",
    "while j < 5:\n",
    "  print('este es el ciclo',j,'del while')\n",
    "  for i in range(1,j+1):\n",
    "    print('este el ciclo',i,'dentro del ciclo for')\n",
    "  j += 1"
   ]
  },
  {
   "cell_type": "markdown",
   "metadata": {},
   "source": [
    "31) Crear un ciclo while dentro de un ciclo for"
   ]
  },
  {
   "cell_type": "code",
   "execution_count": 19,
   "metadata": {},
   "outputs": [
    {
     "name": "stdout",
     "output_type": "stream",
     "text": [
      "este es el ciclo 1 del ciclo for\n",
      "este el ciclo 5 dentro del ciclo while\n",
      "este el ciclo 4 dentro del ciclo while\n",
      "este el ciclo 3 dentro del ciclo while\n",
      "este el ciclo 2 dentro del ciclo while\n",
      "este el ciclo 1 dentro del ciclo while\n",
      "este es el ciclo 2 del ciclo for\n",
      "este el ciclo 5 dentro del ciclo while\n",
      "este el ciclo 4 dentro del ciclo while\n",
      "este el ciclo 3 dentro del ciclo while\n",
      "este el ciclo 2 dentro del ciclo while\n",
      "este el ciclo 1 dentro del ciclo while\n",
      "este es el ciclo 3 del ciclo for\n",
      "este el ciclo 5 dentro del ciclo while\n",
      "este el ciclo 4 dentro del ciclo while\n",
      "este el ciclo 3 dentro del ciclo while\n",
      "este el ciclo 2 dentro del ciclo while\n",
      "este el ciclo 1 dentro del ciclo while\n",
      "este es el ciclo 4 del ciclo for\n",
      "este el ciclo 5 dentro del ciclo while\n",
      "este el ciclo 4 dentro del ciclo while\n",
      "este el ciclo 3 dentro del ciclo while\n",
      "este el ciclo 2 dentro del ciclo while\n",
      "este el ciclo 1 dentro del ciclo while\n"
     ]
    }
   ],
   "source": [
    "k = 5\n",
    "for i in range(1,k):\n",
    "  print('este es el ciclo',i,'del ciclo for')\n",
    "  k_temp = k\n",
    "  while k_temp > 0:\n",
    "    print('este el ciclo',k_temp,'dentro del ciclo while')\n",
    "    k_temp -= 1\n",
    "\n",
    "    if k_temp <= 0:\n",
    "      break"
   ]
  },
  {
   "cell_type": "markdown",
   "metadata": {},
   "source": [
    "32) Imprimir los números primos existentes entre 0 y 30"
   ]
  },
  {
   "cell_type": "code",
   "execution_count": 22,
   "metadata": {},
   "outputs": [
    {
     "name": "stdout",
     "output_type": "stream",
     "text": [
      "1\n",
      "2\n",
      "3\n",
      "5\n",
      "7\n",
      "11\n",
      "13\n",
      "17\n",
      "19\n",
      "23\n",
      "29\n"
     ]
    }
   ],
   "source": [
    "# Recomiendo leer los comentarios de iteracion en iteracion\n",
    "tope_rango = 30\n",
    "n = 1\n",
    "primo = True #concepto de \"bandera\", la variable primo es una bandera\n",
    "\n",
    "while n < tope_rango:\n",
    "  # PRIMER ITERACION: arranca inicialmente con n = 1 porque asi lo definimos inicialmente\n",
    "  # SEGUNDA ITERACION: n = 2\n",
    "  # TERCER ITERACION: n = 3\n",
    "  # CUARTA ITERACION: n = 4\n",
    "  for i in range(2,n): # PRIMER ITERACION: range toma el rango entre 2 y 1 => no entra en el for\n",
    "                       # SEGUNDA ITERACION: range toma el rango entre 2 y 2 => no entra al ciclo for\n",
    "                       # TERCER ITERACION: range toma el rango entre 2 y 3 OJO! que range NO CONTIENE, NO INCLUYE al nro final => no entra al for\n",
    "                       # CUARTA ITERACION: range entre 2 y 4 => i podra tomar el valor 2 y 3\n",
    "    if n % i == 0: # CUARTA ITERACION: n = 4 => para i = 2 => n % i (4 % 2) es igual a 0, entra al if\n",
    "                   # CUARTA ITERACION: n = 4 => para i = 3 => n % i (4 % 3) NO es igual a 0, no entra al if, pero la bandera ya quedo seteada en False de la iteracion anterior\n",
    "      primo = False # CUARTA ITERACION: valor if seteado en False\n",
    "  if primo: # PRIMER ITERACION: como la bandera arranca en True, entra al if e imprime el numero 1\n",
    "            # SEGUNDA ITERACION: la bandera continua en True, entra al if e imprime el numero 2\n",
    "            # TERCER ITERACION: la bandera continua en True, entra al if e imprime el numero 3\n",
    "            # CUARTA ITERACION: en esta iteracion no se entra al if porque la condicion es falsa, continua al else\n",
    "    print(n)\n",
    "  else: # CUARTA ITERACION: el algoritmo continua aqui porque no puedo entrar en la condicion True\n",
    "    primo = True\n",
    "  n += 1 # PRIMER ITERACION: entra con n = 1 entonces actualiza el valor y cambia n = 1 por n = 2\n",
    "         # SEGUNDA ITERACION: n = 2 entonces actualiza el valor y cambia n = 2 por n = 3\n",
    "         # TERCER ITERACION: n = 3, entonces actualiza el valor y cambia n = 3 por n = 4\n",
    "         # CUARTA ITERACION: n = 4, entonces actualiza el valor y cambia n = 4 por n = 5"
   ]
  },
  {
   "cell_type": "markdown",
   "metadata": {},
   "source": [
    "33) ¿Se puede mejorar el proceso del punto 32? Utilizar las sentencias break y/ó continue para tal fin"
   ]
  },
  {
   "cell_type": "code",
   "execution_count": 23,
   "metadata": {},
   "outputs": [
    {
     "name": "stdout",
     "output_type": "stream",
     "text": [
      "1\n",
      "2\n",
      "3\n",
      "5\n",
      "7\n",
      "11\n",
      "13\n",
      "17\n",
      "19\n",
      "23\n",
      "29\n"
     ]
    }
   ],
   "source": [
    "n=1\n",
    "tope_rango = 30\n",
    "primo = True\n",
    "while (n < tope_rango):\n",
    "    for i in range(2,n):\n",
    "        if(n % i == 0):\n",
    "            primo = False\n",
    "            break # ya si encuentro 1 numero que me cambie la bandera no se cumple la definicion de primo, puedo interrumpir el proceso\n",
    "    if(primo):\n",
    "        print(n)\n",
    "    else:\n",
    "        primo=True\n",
    "    n += 1"
   ]
  },
  {
   "cell_type": "markdown",
   "metadata": {},
   "source": [
    "34) Aplicando continue, armar un ciclo while que solo imprima los valores divisibles por 12, dentro del rango de números de 100 a 300"
   ]
  },
  {
   "cell_type": "code",
   "execution_count": 26,
   "metadata": {},
   "outputs": [
    {
     "name": "stdout",
     "output_type": "stream",
     "text": [
      "108\n",
      "120\n",
      "132\n",
      "144\n",
      "156\n",
      "168\n",
      "180\n",
      "192\n",
      "204\n",
      "216\n",
      "228\n",
      "240\n",
      "252\n",
      "264\n",
      "276\n",
      "288\n",
      "300\n"
     ]
    }
   ],
   "source": [
    "valor_inicial = 99\n",
    "valor_final = 300\n",
    "\n",
    "while valor_inicial < valor_final:\n",
    "  valor_inicial += 1 # aqui el valor a verificar si es multiplo de 12 es 100\n",
    "  if valor_inicial % 12 != 0: # hay muchos valores que no seran multiplos de 12, entonces se entrara al if con frecuencia y se ejecutara \n",
    "                              # el \"continue\"\n",
    "    continue # va a hacer que el algoritmo \"se salte\" el print\n",
    "  print(valor_inicial)"
   ]
  },
  {
   "cell_type": "markdown",
   "metadata": {},
   "source": [
    "35) Crear un ciclo while que encuentre dentro del rango de 100 a 300 el primer número divisible por 3 y además múltiplo de 6"
   ]
  },
  {
   "cell_type": "code",
   "execution_count": 34,
   "metadata": {},
   "outputs": [
    {
     "name": "stdout",
     "output_type": "stream",
     "text": [
      "102\n",
      "102 / 3 = 34\n",
      "102 / 6 = 17\n"
     ]
    }
   ],
   "source": [
    "# Regla matematica: para que un numero sea divisible en 6 debe serlo en 2 y 3 => un numero divisible en 6 tambien sera divible en 3\n",
    "# Los siguientes comentarios son MUY nerds, pero pueden interesarte:\n",
    "# Logica propocicional:\n",
    "# Definir proposiciones:\n",
    "#   P: \"Un número es divisible por 6.\"\n",
    "#   Q: \"Un número es divisible por 2.\"\n",
    "#   R: \"Un número es divisible por 3.\"\n",
    "#\n",
    "#   (P ⇒ (Q ∧ R)) ⇒ (P ⇒ R)\n",
    "#   por ley de la lógica proposicional: \"Simplificación\"\n",
    "#   P ⇒ R\n",
    "\n",
    "valor_inicial = 100\n",
    "valor_final = 300\n",
    "\n",
    "while valor_inicial < valor_final:\n",
    "  if valor_inicial % 6 == 0:\n",
    "    print(valor_inicial)\n",
    "    break # como el enunciado pide el primero, listo, encuentro el primero y break\n",
    "  valor_inicial += 1\n",
    "print('102 / 3 = 34')\n",
    "print('102 / 6 = 17')"
   ]
  },
  {
   "cell_type": "markdown",
   "metadata": {},
   "source": [
    "## Estructuras de Datos"
   ]
  },
  {
   "cell_type": "markdown",
   "metadata": {},
   "source": [
    "36. Crear una lista que contenga nombres de ciudades del mundo que contenga más de 5 elementos e imprimir por pantalla"
   ]
  },
  {
   "cell_type": "code",
   "execution_count": 67,
   "metadata": {},
   "outputs": [
    {
     "name": "stdout",
     "output_type": "stream",
     "text": [
      "['Londres', 'Madrid', 'Berlin', 'Paris', 'Monaco', 'Sidney']\n"
     ]
    }
   ],
   "source": [
    "lista_ciudades = ['Londres', 'Madrid', 'Berlin', 'Paris', 'Monaco','Sidney']\n",
    "print(lista_ciudades)"
   ]
  },
  {
   "cell_type": "markdown",
   "metadata": {},
   "source": [
    "37. Imprimir por pantalla el segundo elemento de la lista"
   ]
  },
  {
   "cell_type": "code",
   "execution_count": 38,
   "metadata": {},
   "outputs": [
    {
     "name": "stdout",
     "output_type": "stream",
     "text": [
      "Madrid\n"
     ]
    }
   ],
   "source": [
    "segunda_ciudad = lista_ciudades[1]\n",
    "print(segunda_ciudad)"
   ]
  },
  {
   "cell_type": "markdown",
   "metadata": {},
   "source": [
    "38. Imprimir por pantalla del segundo al cuarto elemento"
   ]
  },
  {
   "cell_type": "code",
   "execution_count": 41,
   "metadata": {},
   "outputs": [
    {
     "name": "stdout",
     "output_type": "stream",
     "text": [
      "['Madrid', 'Berlin', 'Paris']\n"
     ]
    }
   ],
   "source": [
    "porcion_lista_ciudades = lista_ciudades[1:4]\n",
    "print(porcion_lista_ciudades)"
   ]
  },
  {
   "cell_type": "markdown",
   "metadata": {},
   "source": [
    "39. Visualizar el tipo de dato de la lista"
   ]
  },
  {
   "cell_type": "code",
   "execution_count": 43,
   "metadata": {},
   "outputs": [
    {
     "name": "stdout",
     "output_type": "stream",
     "text": [
      "<class 'list'>\n"
     ]
    }
   ],
   "source": [
    "print(type(lista_ciudades))"
   ]
  },
  {
   "cell_type": "markdown",
   "metadata": {},
   "source": [
    "40. Visualizar todos los elementos de la lista a partir del tercero de manera genérica, es decir, sin explicitar la posición del último elemento"
   ]
  },
  {
   "cell_type": "code",
   "execution_count": 44,
   "metadata": {},
   "outputs": [
    {
     "name": "stdout",
     "output_type": "stream",
     "text": [
      "['Berlin', 'Paris', 'Monaco', 'Sidney']\n"
     ]
    }
   ],
   "source": [
    "print(lista_ciudades[2:])"
   ]
  },
  {
   "cell_type": "markdown",
   "metadata": {},
   "source": [
    "41. Visualizar los primeros 4 elementos de la lista"
   ]
  },
  {
   "cell_type": "code",
   "execution_count": 46,
   "metadata": {},
   "outputs": [
    {
     "name": "stdout",
     "output_type": "stream",
     "text": [
      "['Londres', 'Madrid', 'Berlin', 'Paris']\n"
     ]
    }
   ],
   "source": [
    "print(lista_ciudades[:4])"
   ]
  },
  {
   "cell_type": "markdown",
   "metadata": {},
   "source": [
    "42. Agregar dos ciudades más a la lista, una que ya exista y otra que no ¿Arroja algún tipo de error?"
   ]
  },
  {
   "cell_type": "code",
   "execution_count": 50,
   "metadata": {},
   "outputs": [
    {
     "name": "stdout",
     "output_type": "stream",
     "text": [
      "['Londres', 'Madrid', 'Berlin', 'Paris', 'Monaco', 'Sidney', 'Monterrey', 'Paris']\n",
      "no arroja ningun error porque dentro de una lista pueden existir valores repetidos\n"
     ]
    }
   ],
   "source": [
    "lista_ciudades.append('Monterrey')\n",
    "lista_ciudades.append('Paris')\n",
    "print(lista_ciudades)\n",
    "print('no arroja ningun error porque dentro de una lista pueden existir valores repetidos')"
   ]
  },
  {
   "cell_type": "markdown",
   "metadata": {},
   "source": [
    "43. Agregar otra ciudad, pero en la cuarta posición"
   ]
  },
  {
   "cell_type": "code",
   "execution_count": 51,
   "metadata": {},
   "outputs": [
    {
     "name": "stdout",
     "output_type": "stream",
     "text": [
      "['Londres', 'Madrid', 'Berlin', 'Stocolmo', 'Paris', 'Monaco', 'Sidney', 'Monterrey', 'Paris']\n"
     ]
    }
   ],
   "source": [
    "lista_ciudades.insert(3,'Stocolmo')\n",
    "print(lista_ciudades)"
   ]
  },
  {
   "cell_type": "markdown",
   "metadata": {},
   "source": [
    "44. Concatenar otra lista a la ya creada"
   ]
  },
  {
   "cell_type": "code",
   "execution_count": 52,
   "metadata": {},
   "outputs": [
    {
     "name": "stdout",
     "output_type": "stream",
     "text": [
      "['Londres', 'Madrid', 'Berlin', 'Stocolmo', 'Paris', 'Monaco', 'Sidney', 'Monterrey', 'Paris', 'Buenos Aires', 'Lima', 'Amsterdam']\n"
     ]
    }
   ],
   "source": [
    "lista_ciudades_a_concatenar = ['Buenos Aires','Lima','Amsterdam']\n",
    "lista_ciudades.extend(lista_ciudades_a_concatenar)\n",
    "print(lista_ciudades)"
   ]
  },
  {
   "cell_type": "markdown",
   "metadata": {},
   "source": [
    "45. Encontrar el índice de la ciudad que en el punto 42 agregamos duplicada. ¿Se nota alguna particularidad?"
   ]
  },
  {
   "cell_type": "code",
   "execution_count": 54,
   "metadata": {},
   "outputs": [
    {
     "name": "stdout",
     "output_type": "stream",
     "text": [
      "4\n",
      "devuelve el indice de la primer coincidencia, no de las posteriores\n"
     ]
    }
   ],
   "source": [
    "print(lista_ciudades.index('Paris'))\n",
    "print('devuelve el indice de la primer coincidencia, no de las posteriores')"
   ]
  },
  {
   "cell_type": "markdown",
   "metadata": {},
   "source": [
    "46. ¿Qué pasa si se busca un elemento que no existe?"
   ]
  },
  {
   "cell_type": "code",
   "execution_count": 55,
   "metadata": {},
   "outputs": [
    {
     "ename": "ValueError",
     "evalue": "'Salta' is not in list",
     "output_type": "error",
     "traceback": [
      "\u001b[1;31m---------------------------------------------------------------------------\u001b[0m",
      "\u001b[1;31mValueError\u001b[0m                                Traceback (most recent call last)",
      "\u001b[1;32mc:\\Users\\cabez\\OneDrive\\Escritorio\\Data Science\\Ejercicios_python\\Ejercicios_resueltos.ipynb Celda 98\u001b[0m line \u001b[0;36m1\n\u001b[1;32m----> <a href='vscode-notebook-cell:/c%3A/Users/cabez/OneDrive/Escritorio/Data%20Science/Ejercicios_python/Ejercicios_resueltos.ipynb#Y210sZmlsZQ%3D%3D?line=0'>1</a>\u001b[0m \u001b[39mprint\u001b[39m(lista_ciudades\u001b[39m.\u001b[39;49mindex(\u001b[39m'\u001b[39;49m\u001b[39mSalta\u001b[39;49m\u001b[39m'\u001b[39;49m))\n",
      "\u001b[1;31mValueError\u001b[0m: 'Salta' is not in list"
     ]
    }
   ],
   "source": [
    "print(lista_ciudades.index('Salta'))"
   ]
  },
  {
   "cell_type": "markdown",
   "metadata": {},
   "source": [
    "47. Eliminar un elemento de la lista"
   ]
  },
  {
   "cell_type": "code",
   "execution_count": 56,
   "metadata": {},
   "outputs": [
    {
     "name": "stdout",
     "output_type": "stream",
     "text": [
      "['Londres', 'Madrid', 'Berlin', 'Stocolmo', 'Monaco', 'Sidney', 'Monterrey', 'Paris', 'Buenos Aires', 'Lima', 'Amsterdam']\n"
     ]
    }
   ],
   "source": [
    "# Eliminamos el elemento repetido\n",
    "lista_ciudades.pop(lista_ciudades.index('Paris'))\n",
    "print(lista_ciudades)"
   ]
  },
  {
   "cell_type": "code",
   "execution_count": 58,
   "metadata": {},
   "outputs": [
    {
     "name": "stdout",
     "output_type": "stream",
     "text": [
      "['Londres', 'Madrid', 'Berlin', 'Stocolmo', 'Monaco', 'Sidney', 'Monterrey', 'Paris', 'Lima', 'Amsterdam']\n"
     ]
    }
   ],
   "source": [
    "# Eliminamos un elemento determinado\n",
    "lista_ciudades.remove('Buenos Aires')\n",
    "print(lista_ciudades)"
   ]
  },
  {
   "cell_type": "markdown",
   "metadata": {},
   "source": [
    "48. ¿Qué pasa si el elemento a eliminar no existe?"
   ]
  },
  {
   "cell_type": "code",
   "execution_count": 57,
   "metadata": {},
   "outputs": [
    {
     "ename": "IndexError",
     "evalue": "pop index out of range",
     "output_type": "error",
     "traceback": [
      "\u001b[1;31m---------------------------------------------------------------------------\u001b[0m",
      "\u001b[1;31mIndexError\u001b[0m                                Traceback (most recent call last)",
      "\u001b[1;32mc:\\Users\\cabez\\OneDrive\\Escritorio\\Data Science\\Ejercicios_python\\Ejercicios_resueltos.ipynb Celda 102\u001b[0m line \u001b[0;36m1\n\u001b[1;32m----> <a href='vscode-notebook-cell:/c%3A/Users/cabez/OneDrive/Escritorio/Data%20Science/Ejercicios_python/Ejercicios_resueltos.ipynb#Y214sZmlsZQ%3D%3D?line=0'>1</a>\u001b[0m lista_ciudades\u001b[39m.\u001b[39;49mpop(\u001b[39m100\u001b[39;49m)\n",
      "\u001b[1;31mIndexError\u001b[0m: pop index out of range"
     ]
    }
   ],
   "source": [
    "# Eliminamos un indice que no existe\n",
    "lista_ciudades.pop(100)"
   ]
  },
  {
   "cell_type": "code",
   "execution_count": 59,
   "metadata": {},
   "outputs": [
    {
     "ename": "ValueError",
     "evalue": "list.remove(x): x not in list",
     "output_type": "error",
     "traceback": [
      "\u001b[1;31m---------------------------------------------------------------------------\u001b[0m",
      "\u001b[1;31mValueError\u001b[0m                                Traceback (most recent call last)",
      "\u001b[1;32mc:\\Users\\cabez\\OneDrive\\Escritorio\\Data Science\\Ejercicios_python\\Ejercicios_resueltos.ipynb Celda 104\u001b[0m line \u001b[0;36m2\n\u001b[0;32m      <a href='vscode-notebook-cell:/c%3A/Users/cabez/OneDrive/Escritorio/Data%20Science/Ejercicios_python/Ejercicios_resueltos.ipynb#Y220sZmlsZQ%3D%3D?line=0'>1</a>\u001b[0m \u001b[39m# Eliminamos una ciudad que no existe\u001b[39;00m\n\u001b[1;32m----> <a href='vscode-notebook-cell:/c%3A/Users/cabez/OneDrive/Escritorio/Data%20Science/Ejercicios_python/Ejercicios_resueltos.ipynb#Y220sZmlsZQ%3D%3D?line=1'>2</a>\u001b[0m lista_ciudades\u001b[39m.\u001b[39;49mremove(\u001b[39m'\u001b[39;49m\u001b[39mCordoba\u001b[39;49m\u001b[39m'\u001b[39;49m)\n",
      "\u001b[1;31mValueError\u001b[0m: list.remove(x): x not in list"
     ]
    }
   ],
   "source": [
    "# Eliminamos una ciudad que no existe\n",
    "lista_ciudades.remove('Cordoba')"
   ]
  },
  {
   "cell_type": "markdown",
   "metadata": {},
   "source": [
    "49. Extraer el úlimo elemento de la lista, guardarlo en una variable e imprimirlo"
   ]
  },
  {
   "cell_type": "code",
   "execution_count": 60,
   "metadata": {},
   "outputs": [
    {
     "name": "stdout",
     "output_type": "stream",
     "text": [
      "Amsterdam\n"
     ]
    }
   ],
   "source": [
    "ultimo_elemento = lista_ciudades.pop() # si al metodo pop no le pasamos parametros elimina el ultimo elemento\n",
    "print(ultimo_elemento)"
   ]
  },
  {
   "cell_type": "markdown",
   "metadata": {},
   "source": [
    "50. Mostrar la lista multiplicada por 4 (operaciones con listas)"
   ]
  },
  {
   "cell_type": "code",
   "execution_count": 61,
   "metadata": {},
   "outputs": [
    {
     "name": "stdout",
     "output_type": "stream",
     "text": [
      "['Londres', 'Madrid', 'Berlin', 'Stocolmo', 'Monaco', 'Sidney', 'Monterrey', 'Paris', 'Lima', 'Londres', 'Madrid', 'Berlin', 'Stocolmo', 'Monaco', 'Sidney', 'Monterrey', 'Paris', 'Lima', 'Londres', 'Madrid', 'Berlin', 'Stocolmo', 'Monaco', 'Sidney', 'Monterrey', 'Paris', 'Lima', 'Londres', 'Madrid', 'Berlin', 'Stocolmo', 'Monaco', 'Sidney', 'Monterrey', 'Paris', 'Lima']\n"
     ]
    }
   ],
   "source": [
    "print(lista_ciudades*4)"
   ]
  },
  {
   "cell_type": "markdown",
   "metadata": {},
   "source": [
    "51. Crear una tupla que contenga los números enteros del 1 al 20"
   ]
  },
  {
   "cell_type": "code",
   "execution_count": 62,
   "metadata": {},
   "outputs": [
    {
     "name": "stdout",
     "output_type": "stream",
     "text": [
      "<class 'tuple'>\n",
      "(1, 2, 3, 4, 5, 6, 7, 8, 9, 10, 11, 12, 13, 14, 15, 16, 17, 18, 19, 20)\n",
      "<class 'tuple'>\n",
      "(1, 2, 3, 4, 5, 6, 7, 8, 9, 10, 11, 12, 13, 14, 15, 16, 17, 18, 19, 20)\n"
     ]
    }
   ],
   "source": [
    "# Hay dos formas de hacerlo\n",
    "tupla_uno = 1,2,3,4,5,6,7,8,9,10,11,12,13,14,15,16,17,18,19,20\n",
    "tupla_dos = (1,2,3,4,5,6,7,8,9,10,11,12,13,14,15,16,17,18,19,20)\n",
    "\n",
    "print(type(tupla_uno))\n",
    "print(tupla_uno)\n",
    "\n",
    "print(type(tupla_dos))\n",
    "print(tupla_dos)"
   ]
  },
  {
   "cell_type": "markdown",
   "metadata": {},
   "source": [
    "52. Imprimir desde el índice 10 al 15 de la tupla"
   ]
  },
  {
   "cell_type": "code",
   "execution_count": 64,
   "metadata": {},
   "outputs": [
    {
     "name": "stdout",
     "output_type": "stream",
     "text": [
      "(11, 12, 13, 14, 15, 16)\n"
     ]
    }
   ],
   "source": [
    "print(tupla_uno[10:16])"
   ]
  },
  {
   "cell_type": "markdown",
   "metadata": {},
   "source": [
    "53. Evaluar si los números 20 y 30 están dentro de la tupla"
   ]
  },
  {
   "cell_type": "code",
   "execution_count": 65,
   "metadata": {},
   "outputs": [
    {
     "name": "stdout",
     "output_type": "stream",
     "text": [
      "True\n",
      "False\n"
     ]
    }
   ],
   "source": [
    "print(20 in tupla_uno)\n",
    "print(30 in tupla_uno)"
   ]
  },
  {
   "cell_type": "markdown",
   "metadata": {},
   "source": [
    "54. Con la lista creada en el punto 36, validar la existencia del elemento 'Persia' y si no existe, agregarlo. Utilizar una variable e informar lo sucedido.\n",
    "Trata de ejecutar el codigo nuevamente. Se agrega de nuevo la ciudad?"
   ]
  },
  {
   "cell_type": "code",
   "execution_count": 69,
   "metadata": {},
   "outputs": [
    {
     "name": "stdout",
     "output_type": "stream",
     "text": [
      "La ciudad ya existia en el listado\n"
     ]
    }
   ],
   "source": [
    "# restablecer el valor de lo lista creada al inicio\n",
    "ciudad_a_comprobar = 'Persia'\n",
    "if not ciudad_a_comprobar in lista_ciudades:\n",
    "  lista_ciudades.append(ciudad_a_comprobar)\n",
    "  print('Se inserto la ciudad',ciudad_a_comprobar)\n",
    "else:\n",
    "  print('La ciudad ya existia en el listado')"
   ]
  },
  {
   "cell_type": "markdown",
   "metadata": {},
   "source": [
    "55. Mostrar la cantidad de veces que se encuentra un elemento específico dentro de la tupla creada en el punto 51 y de la lista de ciudades creada en el punto 36"
   ]
  },
  {
   "cell_type": "code",
   "execution_count": 71,
   "metadata": {},
   "outputs": [
    {
     "name": "stdout",
     "output_type": "stream",
     "text": [
      "1\n",
      "1\n"
     ]
    }
   ],
   "source": [
    "print(lista_ciudades.count('Madrid'))\n",
    "print(tupla_uno.count(15))"
   ]
  },
  {
   "cell_type": "markdown",
   "metadata": {},
   "source": [
    "56. Convertir la tupla en una lista"
   ]
  },
  {
   "cell_type": "code",
   "execution_count": 73,
   "metadata": {},
   "outputs": [
    {
     "name": "stdout",
     "output_type": "stream",
     "text": [
      "[1, 2, 3, 4, 5, 6, 7, 8, 9, 10, 11, 12, 13, 14, 15, 16, 17, 18, 19, 20]\n",
      "<class 'list'>\n"
     ]
    }
   ],
   "source": [
    "lista_de_numeros_convertida_desde_una_tupla = list(tupla_uno)\n",
    "print(lista_de_numeros_convertida_desde_una_tupla)\n",
    "print(type(lista_de_numeros_convertida_desde_una_tupla))"
   ]
  },
  {
   "cell_type": "markdown",
   "metadata": {},
   "source": [
    "57. Desempaquetar solo los primeros 3 elementos de la tupla en 3 variables"
   ]
  },
  {
   "cell_type": "code",
   "execution_count": 75,
   "metadata": {},
   "outputs": [
    {
     "name": "stdout",
     "output_type": "stream",
     "text": [
      "1 2 3\n"
     ]
    }
   ],
   "source": [
    "var_uno, var_dos, var_tres = tupla_uno[:3]\n",
    "print(var_uno,var_dos,var_tres)"
   ]
  },
  {
   "cell_type": "markdown",
   "metadata": {},
   "source": [
    "58. Crear un diccionario utilizando la lista crada en el punto 1, asignandole la clave \"ciudad\". Agregar tambien otras claves, como puede ser \"Pais\" y \"Continente\"."
   ]
  },
  {
   "cell_type": "code",
   "execution_count": 77,
   "metadata": {},
   "outputs": [
    {
     "name": "stdout",
     "output_type": "stream",
     "text": [
      "{'ciudades': ['Londres', 'Madrid', 'Berlin', 'Paris', 'Monaco', 'Sidney', 'Persia'], 'pais': ['Inglaterra', 'Espania', 'Alemania', 'Francia', 'Francia', 'Australia', 'N/A'], 'continente': ['Europa', 'Europa', 'Europa', 'Europa', 'Europa', 'Oceania', 'N/A']}\n"
     ]
    }
   ],
   "source": [
    "dicc = {\n",
    "  'ciudades': lista_ciudades,\n",
    "  'pais': ['Inglaterra','Espania','Alemania','Francia','Francia','Australia','N/A'],\n",
    "  'continente': ['Europa','Europa','Europa','Europa','Europa','Oceania','N/A']\n",
    "}\n",
    "print(dicc)"
   ]
  },
  {
   "cell_type": "markdown",
   "metadata": {},
   "source": [
    "59. Imprimir las claves del diccionario"
   ]
  },
  {
   "cell_type": "code",
   "execution_count": 78,
   "metadata": {},
   "outputs": [
    {
     "name": "stdout",
     "output_type": "stream",
     "text": [
      "dict_keys(['ciudades', 'pais', 'continente'])\n"
     ]
    }
   ],
   "source": [
    "print(dicc.keys())"
   ]
  },
  {
   "cell_type": "markdown",
   "metadata": {},
   "source": [
    "60. Imprimir las ciudades a través de su clave"
   ]
  },
  {
   "cell_type": "code",
   "execution_count": 79,
   "metadata": {},
   "outputs": [
    {
     "name": "stdout",
     "output_type": "stream",
     "text": [
      "['Londres', 'Madrid', 'Berlin', 'Paris', 'Monaco', 'Sidney', 'Persia']\n"
     ]
    }
   ],
   "source": [
    "print(dicc['ciudades'])"
   ]
  },
  {
   "cell_type": "markdown",
   "metadata": {},
   "source": [
    "## Ejercicios sobre: Iteradores e iterables"
   ]
  },
  {
   "cell_type": "markdown",
   "metadata": {},
   "source": [
    "61. A partir de una lista vacía, utilizar un ciclo while para cargar allí números negativos del -15 al -1"
   ]
  },
  {
   "cell_type": "code",
   "execution_count": 82,
   "metadata": {},
   "outputs": [
    {
     "name": "stdout",
     "output_type": "stream",
     "text": [
      "[-15, -14, -13, -12, -11, -10, -9, -8, -7, -6, -5, -4, -3, -2, -1]\n"
     ]
    }
   ],
   "source": [
    "lista_numeros_negativos = []\n",
    "i = -15\n",
    "while len(lista_numeros_negativos) < 15:\n",
    "  lista_numeros_negativos.append(i)\n",
    "  i += 1\n",
    "\n",
    "print(lista_numeros_negativos)"
   ]
  },
  {
   "cell_type": "markdown",
   "metadata": {},
   "source": [
    "62. ¿Con un ciclo while sería posible recorrer la lista para imprimir sólo los números pares?"
   ]
  },
  {
   "cell_type": "code",
   "execution_count": 86,
   "metadata": {},
   "outputs": [
    {
     "name": "stdout",
     "output_type": "stream",
     "text": [
      "-14\n",
      "-12\n",
      "-10\n",
      "-8\n",
      "-6\n",
      "-4\n",
      "-2\n"
     ]
    }
   ],
   "source": [
    "i = 0\n",
    "while i < len(lista_numeros_negativos):\n",
    "  if lista_numeros_negativos[i] % 2 == 0:\n",
    "    print(lista_numeros_negativos[i])\n",
    "  i += 1\n",
    "  "
   ]
  },
  {
   "cell_type": "markdown",
   "metadata": {},
   "source": [
    "63. Resolver el punto anterior sin utilizar un ciclo while (utilizando un ciclo for)"
   ]
  },
  {
   "cell_type": "code",
   "execution_count": 89,
   "metadata": {},
   "outputs": [
    {
     "name": "stdout",
     "output_type": "stream",
     "text": [
      "-14\n",
      "-12\n",
      "-10\n",
      "-8\n",
      "-6\n",
      "-4\n",
      "-2\n"
     ]
    }
   ],
   "source": [
    "for numero in range(-15,0):\n",
    "  if numero % 2 == 0:\n",
    "    print(numero)"
   ]
  },
  {
   "cell_type": "markdown",
   "metadata": {},
   "source": [
    "64. Utilizar el iterable para recorrer sólo los primeros 3 elementos"
   ]
  },
  {
   "cell_type": "code",
   "execution_count": 90,
   "metadata": {},
   "outputs": [
    {
     "name": "stdout",
     "output_type": "stream",
     "text": [
      "-15\n",
      "-14\n",
      "-13\n"
     ]
    }
   ],
   "source": [
    "for numero in lista_numeros_negativos[:3]:\n",
    "  print(numero)"
   ]
  },
  {
   "cell_type": "markdown",
   "metadata": {},
   "source": [
    "65. Utilizar la función **enumerate** para obtener dentro del iterable, tambien el índice al que corresponde el elemento"
   ]
  },
  {
   "cell_type": "code",
   "execution_count": 92,
   "metadata": {},
   "outputs": [
    {
     "name": "stdout",
     "output_type": "stream",
     "text": [
      "(0, -15)\n",
      "(1, -14)\n",
      "(2, -13)\n",
      "(3, -12)\n",
      "(4, -11)\n",
      "(5, -10)\n",
      "(6, -9)\n",
      "(7, -8)\n",
      "(8, -7)\n",
      "(9, -6)\n",
      "(10, -5)\n",
      "(11, -4)\n",
      "(12, -3)\n",
      "(13, -2)\n",
      "(14, -1)\n"
     ]
    }
   ],
   "source": [
    "for elemento in enumerate(lista_numeros_negativos):\n",
    "  print( elemento)"
   ]
  },
  {
   "cell_type": "markdown",
   "metadata": {},
   "source": [
    "66. Dada la siguiente lista de números enteros entre 1 y 20, crear un ciclo donde se completen los valores faltantes: lista = [1,2,5,7,8,10,13,14,15,17,20]"
   ]
  },
  {
   "cell_type": "code",
   "execution_count": 104,
   "metadata": {},
   "outputs": [
    {
     "name": "stdout",
     "output_type": "stream",
     "text": [
      "[1, 2, 3, 4, 5, 6, 7, 8, 9, 10, 11, 12, 13, 14, 15, 16, 17, 18, 19, 20]\n"
     ]
    }
   ],
   "source": [
    "lista_de_numeros_incompleta = [1,2,5,7,8,10,13,14,15,17,20]\n",
    "i=0\n",
    "while i < (len(lista_de_numeros_incompleta)-1):\n",
    "    if lista_de_numeros_incompleta[i]+1 != lista_de_numeros_incompleta[i+1]:\n",
    "        lista_de_numeros_incompleta.insert(i+1,lista_de_numeros_incompleta[i]+1)\n",
    "    i += 1\n",
    "print(lista_de_numeros_incompleta)\n",
    "    "
   ]
  },
  {
   "cell_type": "code",
   "execution_count": 120,
   "metadata": {},
   "outputs": [
    {
     "name": "stdout",
     "output_type": "stream",
     "text": [
      "[1, 2, 3, 4, 5, 6, 7, 8, 9, 10, 11, 12, 13, 14, 15, 16, 17, 18, 19, 20]\n"
     ]
    }
   ],
   "source": [
    "# otra sulucion\n",
    "lista_de_numeros_incompleta = [1,2,5,7,8,10,13,14,15,17,20]\n",
    "n = 1\n",
    "while n <= 20:\n",
    "  if not (n in lista_de_numeros_incompleta):\n",
    "    lista_de_numeros_incompleta.insert(n-1,n)\n",
    "  n += 1\n",
    "\n",
    "print(lista_de_numeros_incompleta)"
   ]
  },
  {
   "cell_type": "markdown",
   "metadata": {},
   "source": [
    "67. La sucesión de Fibonacci es un listado de números que sigue la fórmula: <br>\n",
    "n<sub>0</sub> = 0<br>\n",
    "n<sub>1</sub> = 1<br>\n",
    "n<sub>i</sub> = n<sub>i-1</sub> + n<sub>i-2</sub><br>\n",
    "Crear una lista con los primeros treinta números de la sucesión.<br>"
   ]
  },
  {
   "cell_type": "code",
   "execution_count": 107,
   "metadata": {},
   "outputs": [
    {
     "name": "stdout",
     "output_type": "stream",
     "text": [
      "[0, 1, 1, 2, 3, 5, 8, 13, 21, 34, 55, 89, 144, 233, 377, 610, 987, 1597, 2584, 4181, 6765, 10946, 17711, 28657, 46368, 75025, 121393, 196418, 317811, 514229]\n"
     ]
    }
   ],
   "source": [
    "numeros_de_fibonacci = [0,1]\n",
    "n=2\n",
    "while n < 30:\n",
    "   numeros_de_fibonacci.append(numeros_de_fibonacci[n-1] + numeros_de_fibonacci[n-2])\n",
    "   n +=1\n",
    "print(numeros_de_fibonacci)"
   ]
  },
  {
   "cell_type": "markdown",
   "metadata": {},
   "source": [
    "68. Realizar la suma de todos elementos de la lista del punto anterior"
   ]
  },
  {
   "cell_type": "code",
   "execution_count": 109,
   "metadata": {},
   "outputs": [
    {
     "data": {
      "text/plain": [
       "1346268"
      ]
     },
     "execution_count": 109,
     "metadata": {},
     "output_type": "execute_result"
    }
   ],
   "source": [
    "sum(numeros_de_fibonacci)"
   ]
  },
  {
   "cell_type": "markdown",
   "metadata": {},
   "source": [
    "69. A partir de la variable cadena dada, mostrar en qué posiciones aparece la letra \"n\"<br>\n",
    "cadena = 'Hola Mundo. Esto es una practica del lenguaje de programación Python'"
   ]
  },
  {
   "cell_type": "code",
   "execution_count": 122,
   "metadata": {},
   "outputs": [
    {
     "name": "stdout",
     "output_type": "stream",
     "text": [
      "7\n",
      "21\n",
      "39\n",
      "60\n",
      "67\n"
     ]
    }
   ],
   "source": [
    "cadena = 'Hola Mundo. Esto es una practica del lenguaje de programacion Python'\n",
    "for indice, letra in enumerate(cadena):\n",
    "  if letra == 'n':\n",
    "    print(indice)"
   ]
  },
  {
   "cell_type": "markdown",
   "metadata": {},
   "source": [
    "70. Crear un diccionario e imprimir sus claves utilizando un iterador"
   ]
  },
  {
   "cell_type": "code",
   "execution_count": 125,
   "metadata": {},
   "outputs": [
    {
     "name": "stdout",
     "output_type": "stream",
     "text": [
      "uno\n",
      "dos\n",
      "tres\n"
     ]
    }
   ],
   "source": [
    "diccionario = {\n",
    "  'uno': 1,\n",
    "  'dos': 2,\n",
    "  'tres': 3\n",
    "}\n",
    "\n",
    "for llave in diccionario:\n",
    "  print(llave)"
   ]
  },
  {
   "cell_type": "markdown",
   "metadata": {},
   "source": [
    "71. Convertir en una lista la variable \"cadena\" del punto 69 y luego recorrerla con un iterador "
   ]
  },
  {
   "cell_type": "code",
   "execution_count": 149,
   "metadata": {},
   "outputs": [
    {
     "name": "stdout",
     "output_type": "stream",
     "text": [
      "Hola Mundo. Esto es una practica del lenguaje de programacion Python\n",
      "<class 'str'>\n",
      "3045974564912\n",
      "['H', 'o', 'l', 'a', ' ', 'M', 'u', 'n', 'd', 'o', '.', ' ', 'E', 's', 't', 'o', ' ', 'e', 's', ' ', 'u', 'n', 'a', ' ', 'p', 'r', 'a', 'c', 't', 'i', 'c', 'a', ' ', 'd', 'e', 'l', ' ', 'l', 'e', 'n', 'g', 'u', 'a', 'j', 'e', ' ', 'd', 'e', ' ', 'p', 'r', 'o', 'g', 'r', 'a', 'm', 'a', 'c', 'i', 'o', 'n', ' ', 'P', 'y', 't', 'h', 'o', 'n']\n",
      "<class 'list'>\n",
      "3045974057792\n",
      "H\n",
      "o\n",
      "l\n",
      "a\n",
      " \n",
      "M\n",
      "u\n",
      "n\n",
      "d\n",
      "o\n",
      ".\n",
      " \n",
      "E\n",
      "s\n",
      "t\n",
      "o\n",
      " \n",
      "e\n",
      "s\n",
      " \n",
      "u\n",
      "n\n",
      "a\n",
      " \n",
      "p\n",
      "r\n",
      "a\n",
      "c\n",
      "t\n",
      "i\n",
      "c\n",
      "a\n",
      " \n",
      "d\n",
      "e\n",
      "l\n",
      " \n",
      "l\n",
      "e\n",
      "n\n",
      "g\n",
      "u\n",
      "a\n",
      "j\n",
      "e\n",
      " \n",
      "d\n",
      "e\n",
      " \n",
      "p\n",
      "r\n",
      "o\n",
      "g\n",
      "r\n",
      "a\n",
      "m\n",
      "a\n",
      "c\n",
      "i\n",
      "o\n",
      "n\n",
      " \n",
      "P\n",
      "y\n",
      "t\n",
      "h\n",
      "o\n",
      "n\n"
     ]
    }
   ],
   "source": [
    "# CONVERTIR significa que a la misma variable \"cadena\", que es un string, convertirla en una lista. NO DEFINIR UNA NUEVA VARIABLE!\n",
    "cadena = 'Hola Mundo. Esto es una practica del lenguaje de programacion Python'\n",
    "print(cadena)\n",
    "print(type(cadena))\n",
    "print(id(cadena))\n",
    "\n",
    "cadena = list(cadena)\n",
    "print(cadena)\n",
    "print(type(cadena))\n",
    "print(id(cadena))\n",
    "\n",
    "iterador = iter(cadena)\n",
    "longitud = len(cadena)\n",
    "\n",
    "type(iterador)\n",
    "\n",
    "for elemento in range (0,longitud):\n",
    "  #print(iterador) <-- vean que pasa si no se usa la funcion next!\n",
    "  print(next(iterador))"
   ]
  },
  {
   "cell_type": "markdown",
   "metadata": {},
   "source": [
    "### Funcion <b>zip</b></br>\n",
    "Esta funcion se utiliza para combinar elementos de una o más secuencias (como listas o tuplas) en una secuencia de tuplas. Cada tupla resultante contiene elementos de las secuencias originales, emparejados según su posición en esas secuencias. En otras palabras, zip() toma elementos de la misma posición de múltiples secuencias y los agrupa en una tupla.</br>\n",
    "A menudo se convierte el resultado de zip() en una lista es porque zip() en sí mismo devuelve un objeto zip, que es un iterador. Este objeto zip es eficiente en términos de uso de memoria ya que no crea una nueva lista para almacenar los elementos combinados, sino que genera las combinaciones a medida que se solicitan. Esto puede ser beneficioso en situaciones en las que estás trabajando con grandes conjuntos de datos, ya que evita la necesidad de crear una nueva lista que consuma más memoria."
   ]
  },
  {
   "cell_type": "markdown",
   "metadata": {},
   "source": [
    "Ejemplo - Combinación de dos listas:"
   ]
  },
  {
   "cell_type": "code",
   "execution_count": 160,
   "metadata": {},
   "outputs": [
    {
     "name": "stdout",
     "output_type": "stream",
     "text": [
      "[('Alice', 25), ('Bob', 30), ('Charlie', 35)]\n"
     ]
    }
   ],
   "source": [
    "nombres = ['Alice', 'Bob', 'Charlie']\n",
    "edades = [25, 30, 35]\n",
    "\n",
    "resultado = list(zip(nombres, edades))\n",
    "print(resultado)"
   ]
  },
  {
   "cell_type": "markdown",
   "metadata": {},
   "source": [
    "72. Crear dos listas y unirlas en una tupla utilizando la función zip"
   ]
  },
  {
   "cell_type": "code",
   "execution_count": 159,
   "metadata": {},
   "outputs": [
    {
     "name": "stdout",
     "output_type": "stream",
     "text": [
      "[(1, 3), (2, 4), (True, False), ('Hola', 'Mundo')]\n"
     ]
    }
   ],
   "source": [
    "lista_uno = [1, 2, True, 'Hola']\n",
    "lista_dos = [3, 4, False, 'Mundo']\n",
    "tupla_zipeada = zip(lista_uno, lista_dos)\n",
    "print(list(tupla_zipeada))"
   ]
  },
  {
   "cell_type": "markdown",
   "metadata": {},
   "source": [
    "### Comprension de listas</br>\n",
    "Es un concepto fundamental en Python. Se refiere a una técnica que permite crear nuevas listas (u otras secuencias) a partir de secuencias existentes, de manera concisa y legible. Las comprensiones de lista son una característica poderosa y elegante del lenguaje Python que facilita la creación y manipulación de listas.</br>\n",
    "La sintaxis básica de una comprensión de lista es la siguiente:</br>\n",
    "nueva_lista = [expresion for elemento in secuencia if condicion]</br>\n",
    "donde:</br>\n",
    "</br>\n",
    "a. <b>nueva_lista</b>: La lista resultante que se crea a partir de la comprensión.</br>\n",
    "b. <b>expresion</b>: Una expresión que se evalúa para cada elemento de la secuencia.</br>\n",
    "c. <b>elemento</b>: La variable que representa cada elemento de la secuencia.</br>\n",
    "d. <b>secuencia</b>: La secuencia (por ejemplo, una lista, tupla o rango) de la cual se toman los elementos.</br>\n",
    "e. <b>condicion (opcional)</b>: Una condición que filtra los elementos de la secuencia antes de que se incluyan en la nueva lista.</br>\n",
    "</br>\n",
    "La comprensión de lista itera a través de la secuencia original, aplica la expresión a cada elemento y, si la condición es True, agrega el resultado a la nueva lista. Esto permite crear nuevas listas de manera eficiente y legible.\n",
    "\n"
   ]
  },
  {
   "cell_type": "markdown",
   "metadata": {},
   "source": [
    "Ejemplo 1: Crear una lista de cuadrados de números pares:"
   ]
  },
  {
   "cell_type": "code",
   "execution_count": 164,
   "metadata": {},
   "outputs": [
    {
     "name": "stdout",
     "output_type": "stream",
     "text": [
      "[4, 16, 36]\n"
     ]
    }
   ],
   "source": [
    "numeros = [1, 2, 3, 4, 5, 6]\n",
    "cuadrados_pares = [x ** 2 for x in numeros if x % 2 == 0]\n",
    "# cuadrados_pares contiene [4, 16, 36]\n",
    "print(cuadrados_pares)"
   ]
  },
  {
   "cell_type": "markdown",
   "metadata": {},
   "source": [
    "Ejemplo 2: Crear una lista de letras en mayúscula a partir de una cadena:"
   ]
  },
  {
   "cell_type": "code",
   "execution_count": 166,
   "metadata": {},
   "outputs": [
    {
     "name": "stdout",
     "output_type": "stream",
     "text": [
      "La cadena es Python es genial\n",
      "La comprension es ['P', 'Y', 'T', 'H', 'O', 'N', 'E', 'S', 'G', 'E', 'N', 'I', 'A', 'L']\n"
     ]
    }
   ],
   "source": [
    "cadena = \"Python es genial\"\n",
    "letras_mayusculas = [letra.upper() for letra in cadena if letra.isalpha()]\n",
    "# letras_mayusculas contiene ['P', 'Y', 'T', 'H', 'O', 'N', 'E', 'S', 'G', 'E', 'N', 'I', 'A', 'L']\n",
    "print('La cadena es',cadena)\n",
    "print('La comprension es',letras_mayusculas)"
   ]
  },
  {
   "cell_type": "markdown",
   "metadata": {},
   "source": [
    "73. A partir de la siguiente lista de números, crear una nueva sólo si el número es divisible por 7<br>\n",
    "lis = [18,21,29,32,35,42,56,60,63,71,84,90,91,100]"
   ]
  },
  {
   "cell_type": "code",
   "execution_count": 161,
   "metadata": {},
   "outputs": [
    {
     "name": "stdout",
     "output_type": "stream",
     "text": [
      "[21, 35, 42, 56, 63, 84, 91]\n"
     ]
    }
   ],
   "source": [
    "lis = [18,21,29,32,35,42,56,60,63,71,84,90,91,100]\n",
    "lis_divisibles_en_siete = []\n",
    "\n",
    "for numero in lis:\n",
    "  if numero % 7 == 0:\n",
    "    lis_divisibles_en_siete.append(numero)\n",
    "\n",
    "print(lis_divisibles_en_siete)"
   ]
  },
  {
   "cell_type": "code",
   "execution_count": 167,
   "metadata": {},
   "outputs": [
    {
     "name": "stdout",
     "output_type": "stream",
     "text": [
      "[21, 35, 42, 56, 63, 84, 91]\n"
     ]
    }
   ],
   "source": [
    "#con comprension de listas\n",
    "lis = [18, 21, 29, 32, 35, 42, 56, 60, 63, 71, 84, 90, 91, 100]  # Definición de la lista original\n",
    "\n",
    "lis2 = [i for i in lis if i % 7 == 0]  # Comprensión de lista para filtrar elementos divisibles por 7\n",
    "\n",
    "print(lis2)  # Impresión de la lista resultante"
   ]
  },
  {
   "cell_type": "markdown",
   "metadata": {},
   "source": [
    "74. A partir de la lista de a continuación, contar la cantidad total de elementos que contiene, teniendo en cuenta que un elemento de la lista podría ser otra lista:<br>\n",
    "lis = [[1,2,3,4],'rojo','verde',[True,False,False],['uno','dos','tres']]"
   ]
  },
  {
   "cell_type": "code",
   "execution_count": 168,
   "metadata": {},
   "outputs": [
    {
     "name": "stdout",
     "output_type": "stream",
     "text": [
      "esto es una forma: la lingitud de lis es de 5 elementos\n",
      "esta es otra forma: la cantidad total de los elementos en lis es: 12 elementos\n"
     ]
    }
   ],
   "source": [
    "lis = [[1,2,3,4],'rojo','verde',[True,False,False],['uno','dos','tres']]\n",
    "print('esto es una forma: la lingitud de lis es de',len(lis),'elementos')\n",
    "\n",
    "cantidad_total_de_elementos = 0\n",
    "for elemento in lis:\n",
    "    if type(elemento) == list:\n",
    "        cantidad_total_de_elementos = cantidad_total_de_elementos + len(elemento)\n",
    "    else:\n",
    "        cantidad_total_de_elementos += 1\n",
    "print('esta es otra forma: la cantidad total de los elementos en lis es:',cantidad_total_de_elementos,'elementos')"
   ]
  },
  {
   "cell_type": "markdown",
   "metadata": {},
   "source": [
    "75. Tomar la lista del punto anterior y convertir cada elemento en una lista si no lo es. Conservar los elementos dentro de la misma lista"
   ]
  },
  {
   "cell_type": "code",
   "execution_count": 170,
   "metadata": {},
   "outputs": [
    {
     "name": "stdout",
     "output_type": "stream",
     "text": [
      "[[1, 2, 3, 4], ['rojo'], ['verde'], [True, False, False], ['uno', 'dos', 'tres']]\n"
     ]
    }
   ],
   "source": [
    "for indice, elemento in enumerate(lis):  # Iteración sobre cada elemento de la lista 'lis' junto con su índice\n",
    "    if type(elemento) != list:  # Verificación si sel elemento no es una lista\n",
    "        lis[indice] = [elemento]  # Si no es una lista, se reemplaza por una lista que contiene ese elemento\n",
    "\n",
    "print(lis)  # Impresión de la lista modificada"
   ]
  },
  {
   "cell_type": "markdown",
   "metadata": {},
   "source": [
    "## Funciones"
   ]
  },
  {
   "cell_type": "markdown",
   "metadata": {},
   "source": [
    "76. Crea una función que reciba una lista de números y devuelva la suma de todos los elementos."
   ]
  },
  {
   "cell_type": "code",
   "execution_count": 174,
   "metadata": {},
   "outputs": [
    {
     "name": "stdout",
     "output_type": "stream",
     "text": [
      "21\n"
     ]
    }
   ],
   "source": [
    "def sumatoria(lista):\n",
    "  return sum(lista)\n",
    "\n",
    "lista_de_numeros = [1,2,3,4,5,6]\n",
    "\n",
    "print(sumatoria(lista_de_numeros))"
   ]
  },
  {
   "cell_type": "markdown",
   "metadata": {},
   "source": [
    "77. Crear una función que reciba un número como parámetro y devuelva True si es primo y False si no lo es"
   ]
  },
  {
   "cell_type": "code",
   "execution_count": 175,
   "metadata": {},
   "outputs": [
    {
     "name": "stdout",
     "output_type": "stream",
     "text": [
      "False\n"
     ]
    }
   ],
   "source": [
    "def es_primo(num):\n",
    "  if num < 2:\n",
    "    return False\n",
    "  divisor = 2\n",
    "  while divisor < num:\n",
    "    if num % divisor == 0:\n",
    "      return False\n",
    "    divisor += 1\n",
    "  return True\n",
    "\n",
    "print(es_primo(27))"
   ]
  },
  {
   "cell_type": "markdown",
   "metadata": {},
   "source": [
    "78. Utilizando la función del punto anterior, realizar otra función que reciba de parámetro una lista de números y devuelva sólo aquellos que son primos en otra lista"
   ]
  },
  {
   "cell_type": "code",
   "execution_count": 176,
   "metadata": {},
   "outputs": [
    {
     "data": {
      "text/plain": [
       "[2, 3, 5, 7, 11, 13, 17, 19, 23, 29]"
      ]
     },
     "execution_count": 176,
     "metadata": {},
     "output_type": "execute_result"
    }
   ],
   "source": [
    "lista_de_numeros = [1,2,3,4,5,6,7,8,9,10,11,12,13,14,15,16,17,18,19,20,21,22,23,24,25,26,27,28,29,30]\n",
    "\n",
    "def solo_numeros_primos(listado):\n",
    "  lista_numeros_primos = []\n",
    "  for numero in listado:\n",
    "    if es_primo(numero):\n",
    "      lista_numeros_primos.append(numero)\n",
    "  return lista_numeros_primos\n",
    "\n",
    "solo_numeros_primos(lista_de_numeros)"
   ]
  },
  {
   "cell_type": "markdown",
   "metadata": {},
   "source": [
    "79. Crear una función que al recibir una lista de números, devuelva el que más se repite y cuántas veces lo hace. Si hay más de un \"más repetido\", que devuelva cualquiera"
   ]
  },
  {
   "cell_type": "code",
   "execution_count": 177,
   "metadata": {},
   "outputs": [
    {
     "name": "stdout",
     "output_type": "stream",
     "text": [
      "[(1, 2), (2, 3), (3, 2), (4, 1), (5, 1), (7, 1), (8, 6), (9, 2)]\n",
      "(8, 6)\n"
     ]
    }
   ],
   "source": [
    "lista_numeros_repetidos = [1,1,2,2,2,3,3,4,5,7,8,8,8,8,8,8,9,9,]\n",
    "\n",
    "def devuelve_numeros_repetidos(lista):\n",
    "  tupla = tuple(lista)\n",
    "  tupla_unicos = tuple(set(lista))\n",
    "  lista_ocurrencias = []\n",
    "\n",
    "  for numero in tupla_unicos:\n",
    "    ocurrencia = tupla.count(numero)\n",
    "    lista_ocurrencias.append(ocurrencia)\n",
    "\n",
    "  numeros_con_su_ocurrencia = list(zip(list(tupla_unicos),lista_ocurrencias))\n",
    "\n",
    "  print(numeros_con_su_ocurrencia)\n",
    "  \n",
    "  ocurrencia_maxima = 0\n",
    "  numero_mas_repetido = None\n",
    "\n",
    "  for numero, valor in numeros_con_su_ocurrencia:\n",
    "    if valor > ocurrencia_maxima:\n",
    "      ocurrencia_maxima = valor\n",
    "      numero_mas_repetido = numero\n",
    "\n",
    "\n",
    "  return numero_mas_repetido, ocurrencia_maxima\n",
    "\n",
    "print(devuelve_numeros_repetidos(lista_numeros_repetidos))"
   ]
  },
  {
   "cell_type": "code",
   "execution_count": 178,
   "metadata": {},
   "outputs": [
    {
     "name": "stdout",
     "output_type": "stream",
     "text": [
      "(8, 6)\n"
     ]
    }
   ],
   "source": [
    "# En esta solución, utilizamos la clase Counter del módulo collections para contar las ocurrencias de cada elemento en la lista. Luego, usamos el método most_common(1) para encontrar el elemento más común y su cantidad de ocurrencias. Este enfoque es más eficiente, ya que tiene una complejidad de tiempo O(n), lo que significa que es más rápido para listas largas.\n",
    "\n",
    "from collections import Counter\n",
    "\n",
    "def devuelve_numeros_repetidos(lista):\n",
    "    contador = Counter(lista)\n",
    "    numero_mas_repetido, ocurrencia_maxima = contador.most_common(1)[0]\n",
    "    return numero_mas_repetido, ocurrencia_maxima\n",
    "\n",
    "resultado = devuelve_numeros_repetidos(lista_numeros_repetidos)\n",
    "print(resultado)"
   ]
  },
  {
   "cell_type": "markdown",
   "metadata": {},
   "source": [
    "80. Crear una función que convierta entre grados Celsius, Farenheit y Kelvin<br>\n",
    "Fórmula 1\t: (°C × 9/5) + 32 = °F<br>\n",
    "Fórmula 2\t: °C + 273.15 = °K<br>\n",
    "Debe recibir 3 parámetros: el valor, la medida de orígen y la medida de destino"
   ]
  },
  {
   "cell_type": "code",
   "execution_count": 179,
   "metadata": {},
   "outputs": [
    {
     "name": "stdout",
     "output_type": "stream",
     "text": [
      "1 grado Kelvin a Kelvin: 1\n"
     ]
    }
   ],
   "source": [
    "def conversor_temp(valor, origen, destino):\n",
    "  if origen == 'C':\n",
    "    if destino == 'C':\n",
    "      temp = valor\n",
    "    elif destino == 'K':\n",
    "      temp = valor + 273.15\n",
    "    elif destino == 'F':\n",
    "      temp = (valor * 9 / 5 ) + 32\n",
    "    else:\n",
    "      print('el parametro de destino es incorrecto')\n",
    "  elif origen == 'K':\n",
    "    if destino == 'C':\n",
    "      temp = valor - 273.15\n",
    "    elif destino == 'K':\n",
    "      temp = valor\n",
    "    elif destino == 'F':\n",
    "      temp = ((valor - 273.15) * 9 / 5) + 32\n",
    "    else:\n",
    "      print('el parametro de destino es incorrecto')\n",
    "  elif origen == 'F':\n",
    "    if destino == 'C':\n",
    "      temp = (valor - 32) * 5 / 9\n",
    "    elif destino == 'K':\n",
    "      temp = ((valor - 32) * 5 / 9) + 273.15\n",
    "    elif destino == 'F':\n",
    "      temp = valor\n",
    "    else:\n",
    "      print('el parametro de destino es incorrecto')\n",
    "  else:\n",
    "    print('El parametro de origen es incorrecto')\n",
    "  return temp\n",
    "\n",
    "print('1 grado Kelvin a Kelvin:', conversor_temp(1, 'K', 'K'))"
   ]
  },
  {
   "cell_type": "markdown",
   "metadata": {},
   "source": [
    "81. Armar una función que devuelva el factorial de un número. Tener en cuenta que el usuario puede equivocarse y enviar de parámetro un número no entero o negativo"
   ]
  },
  {
   "cell_type": "code",
   "execution_count": 180,
   "metadata": {},
   "outputs": [
    {
     "name": "stdout",
     "output_type": "stream",
     "text": [
      "120\n"
     ]
    }
   ],
   "source": [
    "def factorial(n):\n",
    "  if type(n) != int or n < 0:\n",
    "    return 'Por favor proporcionar un numero entero positivo'\n",
    "  if n == 1:\n",
    "    return n\n",
    "  else:\n",
    "    return n * factorial(n-1)\n",
    "  \n",
    "print(factorial(5))"
   ]
  },
  {
   "cell_type": "markdown",
   "metadata": {},
   "source": [
    "#### Exercise 1\n",
    "You will build a program that takes a value, integer , and returns a list of its multiples up to another value, limit . If limit is a multiple of integer, it should be included as well. There will only ever be positive integers passed into the function, not consisting of 0. The limit will always be higher than the base.\n",
    "\n",
    "For example, if the parameters passed are (2, 6), the function should return [2, 4, 6] as 2, 4, and 6 are the multiples of 2 up to 6."
   ]
  },
  {
   "cell_type": "code",
   "execution_count": 2,
   "metadata": {},
   "outputs": [],
   "source": [
    "def find_multiples(integer, limit):\n",
    "    list = []\n",
    "    for numero in range(1,limit+1):\n",
    "        if numero % integer == 0:\n",
    "            list.append(numero)\n",
    "    return list"
   ]
  },
  {
   "cell_type": "code",
   "execution_count": 3,
   "metadata": {},
   "outputs": [
    {
     "data": {
      "text/plain": [
       "[5, 10, 15, 20, 25]"
      ]
     },
     "execution_count": 3,
     "metadata": {},
     "output_type": "execute_result"
    }
   ],
   "source": [
    "find_multiples(5, 25)"
   ]
  },
  {
   "cell_type": "markdown",
   "metadata": {},
   "source": [
    "#### **Validación de Nombre de Usuario en Codeland**\n",
    "Toma el parámetro de función `CodelandUsernameValidation(str)` y determina si la cadena es un nombre de usuario válido según las siguientes reglas:\n",
    "\n",
    "1. El nombre de usuario tiene entre 4 y 25 caracteres.\n",
    "2. Debe comenzar con una letra.\n",
    "3. Solo puede contener letras, números y el carácter guión bajo (_).\n",
    "4. No puede terminar con el carácter guión bajo (_).\n",
    "\n",
    "Si el nombre de usuario es válido, tu programa debería devolver la cadena \"true\", de lo contrario, debería devolver la cadena \"false\".\n"
   ]
  },
  {
   "cell_type": "code",
   "execution_count": 171,
   "metadata": {},
   "outputs": [],
   "source": [
    "import re\n",
    "\n",
    "def CodelandUsernameValidation(str):\n",
    "    # Verificar la longitud del nombre de usuario\n",
    "    if len(str) < 4 or len(str) > 25:\n",
    "        return \"false\"\n",
    "    \n",
    "    # Verificar si comienza con una letra\n",
    "    if not str[0].isalpha():\n",
    "        return \"false\"\n",
    "    \n",
    "    # Verificar si contiene solo letras, números y guiones bajos\n",
    "    if not re.match(\"^[a-zA-Z0-9_]+$\", str):\n",
    "        return \"false\"\n",
    "    \n",
    "    # Verificar si no termina con un guión bajo\n",
    "    if str[-1] == \"_\":\n",
    "        return \"false\"\n",
    "    \n",
    "    # Si pasa todas las condiciones anteriores, es un nombre de usuario válido\n",
    "    return \"true\""
   ]
  },
  {
   "cell_type": "code",
   "execution_count": 172,
   "metadata": {},
   "outputs": [
    {
     "name": "stdout",
     "output_type": "stream",
     "text": [
      "false\n"
     ]
    }
   ],
   "source": [
    "print(CodelandUsernameValidation('andres_'))"
   ]
  },
  {
   "cell_type": "code",
   "execution_count": 173,
   "metadata": {},
   "outputs": [
    {
     "name": "stdout",
     "output_type": "stream",
     "text": [
      "true\n"
     ]
    }
   ],
   "source": [
    "print(CodelandUsernameValidation('andres159'))"
   ]
  },
  {
   "cell_type": "code",
   "execution_count": null,
   "metadata": {},
   "outputs": [],
   "source": []
  }
 ],
 "metadata": {
  "kernelspec": {
   "display_name": "Python 3",
   "language": "python",
   "name": "python3"
  },
  "language_info": {
   "codemirror_mode": {
    "name": "ipython",
    "version": 3
   },
   "file_extension": ".py",
   "mimetype": "text/x-python",
   "name": "python",
   "nbconvert_exporter": "python",
   "pygments_lexer": "ipython3",
   "version": "3.11.5"
  },
  "orig_nbformat": 4
 },
 "nbformat": 4,
 "nbformat_minor": 2
}
